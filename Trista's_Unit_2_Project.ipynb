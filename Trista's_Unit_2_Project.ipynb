{
  "nbformat": 4,
  "nbformat_minor": 0,
  "metadata": {
    "colab": {
      "name": "Trista's Unit 2 Project.ipynb",
      "version": "0.3.2",
      "provenance": [],
      "collapsed_sections": [
        "LMq2YBi8b1Jr",
        "dDQ1JihBkvej",
        "9dXm3wsHYpbA",
        "5VPXqls0ULfF",
        "ZTOyCdVnbi1x",
        "XJNtDuxev7U2",
        "v4pVn10W5aci"
      ],
      "include_colab_link": true
    },
    "kernelspec": {
      "name": "python3",
      "display_name": "Python 3"
    }
  },
  "cells": [
    {
      "cell_type": "markdown",
      "metadata": {
        "id": "view-in-github",
        "colab_type": "text"
      },
      "source": [
        "<a href=\"https://colab.research.google.com/github/trista-paul/DS-Unit-2-Sprint-5-/blob/master/Trista's_Unit_2_Project.ipynb\" target=\"_parent\"><img src=\"https://colab.research.google.com/assets/colab-badge.svg\" alt=\"Open In Colab\"/></a>"
      ]
    },
    {
      "metadata": {
        "id": "xktWoofbWGCF",
        "colab_type": "code",
        "outputId": "8690ff8e-0d70-4563-fd1e-9e9cd8753a39",
        "colab": {
          "base_uri": "https://localhost:8080/",
          "height": 343
        }
      },
      "cell_type": "code",
      "source": [
        "from google.colab import drive\n",
        "drive.mount('/content/drive', force_remount=True)\n",
        "%env KAGGLE_CONFIG_DIR=/content/drive/My Drive/\n",
        "\n",
        "!kaggle competitions download -c ds2-predictive-modeling-challenge"
      ],
      "execution_count": 0,
      "outputs": [
        {
          "output_type": "stream",
          "text": [
            "Go to this URL in a browser: https://accounts.google.com/o/oauth2/auth?client_id=947318989803-6bn6qk8qdgf4n4g3pfee6491hc0brc4i.apps.googleusercontent.com&redirect_uri=urn%3Aietf%3Awg%3Aoauth%3A2.0%3Aoob&scope=email%20https%3A%2F%2Fwww.googleapis.com%2Fauth%2Fdocs.test%20https%3A%2F%2Fwww.googleapis.com%2Fauth%2Fdrive%20https%3A%2F%2Fwww.googleapis.com%2Fauth%2Fdrive.photos.readonly%20https%3A%2F%2Fwww.googleapis.com%2Fauth%2Fpeopleapi.readonly&response_type=code\n",
            "\n",
            "Enter your authorization code:\n",
            "··········\n",
            "Mounted at /content/drive\n",
            "env: KAGGLE_CONFIG_DIR=/content/drive/My Drive/\n",
            "Downloading train_features.csv.zip to /content\n",
            "  0% 0.00/3.81M [00:00<?, ?B/s]\n",
            "100% 3.81M/3.81M [00:00<00:00, 63.0MB/s]\n",
            "Downloading train_labels.csv.zip to /content\n",
            "  0% 0.00/211k [00:00<?, ?B/s]\n",
            "100% 211k/211k [00:00<00:00, 64.3MB/s]\n",
            "Downloading test_features.csv.zip to /content\n",
            "  0% 0.00/948k [00:00<?, ?B/s]\n",
            "100% 948k/948k [00:00<00:00, 133MB/s]\n",
            "Downloading sample_submission.csv to /content\n",
            "  0% 0.00/236k [00:00<?, ?B/s]\n",
            "100% 236k/236k [00:00<00:00, 47.1MB/s]\n"
          ],
          "name": "stdout"
        }
      ]
    },
    {
      "metadata": {
        "id": "LMq2YBi8b1Jr",
        "colab_type": "text"
      },
      "cell_type": "markdown",
      "source": [
        "# **Loading dataset, imports**"
      ]
    },
    {
      "metadata": {
        "id": "JBq-cVGYWvbX",
        "colab_type": "code",
        "outputId": "357ec9b6-bc2c-48dc-9a86-1b507d685865",
        "colab": {
          "base_uri": "https://localhost:8080/",
          "height": 275
        }
      },
      "cell_type": "code",
      "source": [
        "import pandas as pd\n",
        "import matplotlib.pyplot as plt\n",
        "import numpy as np\n",
        "import statsmodels\n",
        "import scipy\n",
        "import datetime\n",
        "import seaborn as sns\n",
        "!pip install category_encoders\n",
        "from category_encoders import OneHotEncoder\n",
        "import sklearn\n",
        "from sklearn.preprocessing import Imputer, StandardScaler\n",
        "from sklearn.pipeline import make_pipeline\n",
        "from sklearn.metrics import mean_squared_error, accuracy_score\n",
        "from sklearn.linear_model import Ridge, LogisticRegression\n",
        "from sklearn.model_selection import cross_validate, train_test_split\n",
        "from sklearn.exceptions import DataConversionWarning\n",
        "from sklearn.tree import DecisionTreeClassifier\n",
        "from sklearn.impute import SimpleImputer\n",
        "from sklearn.ensemble import RandomForestClassifier\n",
        "import warnings"
      ],
      "execution_count": 0,
      "outputs": [
        {
          "output_type": "stream",
          "text": [
            "Collecting category_encoders\n",
            "\u001b[?25l  Downloading https://files.pythonhosted.org/packages/f7/d3/82a4b85a87ece114f6d0139d643580c726efa45fa4db3b81aed38c0156c5/category_encoders-1.3.0-py2.py3-none-any.whl (61kB)\n",
            "\u001b[K    100% |████████████████████████████████| 61kB 2.3MB/s \n",
            "\u001b[?25hRequirement already satisfied: patsy>=0.4.1 in /usr/local/lib/python3.6/dist-packages (from category_encoders) (0.5.1)\n",
            "Requirement already satisfied: numpy>=1.11.1 in /usr/local/lib/python3.6/dist-packages (from category_encoders) (1.14.6)\n",
            "Requirement already satisfied: scikit-learn>=0.17.1 in /usr/local/lib/python3.6/dist-packages (from category_encoders) (0.20.3)\n",
            "Requirement already satisfied: pandas>=0.20.1 in /usr/local/lib/python3.6/dist-packages (from category_encoders) (0.22.0)\n",
            "Requirement already satisfied: scipy>=0.17.0 in /usr/local/lib/python3.6/dist-packages (from category_encoders) (1.1.0)\n",
            "Requirement already satisfied: statsmodels>=0.6.1 in /usr/local/lib/python3.6/dist-packages (from category_encoders) (0.8.0)\n",
            "Requirement already satisfied: six in /usr/local/lib/python3.6/dist-packages (from patsy>=0.4.1->category_encoders) (1.11.0)\n",
            "Requirement already satisfied: pytz>=2011k in /usr/local/lib/python3.6/dist-packages (from pandas>=0.20.1->category_encoders) (2018.9)\n",
            "Requirement already satisfied: python-dateutil>=2 in /usr/local/lib/python3.6/dist-packages (from pandas>=0.20.1->category_encoders) (2.5.3)\n",
            "Installing collected packages: category-encoders\n",
            "Successfully installed category-encoders-1.3.0\n"
          ],
          "name": "stdout"
        }
      ]
    },
    {
      "metadata": {
        "id": "qGRQg9q5WxFv",
        "colab_type": "code",
        "outputId": "d12809fa-faa9-4a19-c0c2-08918b93e032",
        "colab": {
          "base_uri": "https://localhost:8080/",
          "height": 119
        }
      },
      "cell_type": "code",
      "source": [
        "!unzip train_features.csv.zip\n",
        "!unzip train_labels.csv.zip\n",
        "!unzip test_features.csv.zip"
      ],
      "execution_count": 0,
      "outputs": [
        {
          "output_type": "stream",
          "text": [
            "Archive:  train_features.csv.zip\n",
            "  inflating: train_features.csv      \n",
            "Archive:  train_labels.csv.zip\n",
            "  inflating: train_labels.csv        \n",
            "Archive:  test_features.csv.zip\n",
            "  inflating: test_features.csv       \n"
          ],
          "name": "stdout"
        }
      ]
    },
    {
      "metadata": {
        "id": "ew9OC-FRaJ6k",
        "colab_type": "code",
        "colab": {}
      },
      "cell_type": "code",
      "source": [
        "test = pd.read_csv('test_features.csv')\n",
        "train = pd.read_csv('train_features.csv')\n",
        "y = pd.read_csv('train_labels.csv')\n",
        "sample_submission = pd.read_csv('sample_submission.csv')"
      ],
      "execution_count": 0,
      "outputs": []
    },
    {
      "metadata": {
        "id": "dDQ1JihBkvej",
        "colab_type": "text"
      },
      "cell_type": "markdown",
      "source": [
        "# **All Dataframe Shaping (no scroll)**"
      ]
    },
    {
      "metadata": {
        "id": "Rv8RhNcmk8F3",
        "colab_type": "code",
        "colab": {}
      },
      "cell_type": "code",
      "source": [
        "#First Model\n",
        "train['date_recorded'] = pd.to_datetime(train['date_recorded'])\n",
        "date_recorded = train[['date_recorded', 'id']]\n",
        "train = train.drop(columns='date_recorded')\n",
        "train = train.drop(columns=['wpt_name', 'subvillage', 'scheme_name'])\n",
        "highcardinality = train[['id', 'funder', 'installer', 'ward']]\n",
        "train = train.drop(columns=['funder', 'installer', 'ward'])\n",
        "nans = train[['id', 'public_meeting', 'scheme_management', 'permit']]\n",
        "train = train.drop(columns=['public_meeting', 'scheme_management', 'permit'])\n",
        "highcardinality['lga'] = train['lga']\n",
        "train = train.drop(columns='lga')\n",
        "BaselineX = train.drop(columns='id')\n",
        "Baseliney = y.drop(columns='id')\n",
        "Baseliney = np.ravel(Baseliney)\n",
        "\n",
        "\n",
        "test['date_recorded'] = pd.to_datetime(test['date_recorded'])\n",
        "date_recorded_test = test[['date_recorded', 'id']]\n",
        "test = test.drop(columns='date_recorded')\n",
        "test = test.drop(columns=['wpt_name', 'subvillage', 'scheme_name'])\n",
        "highcardinality_test = test[['id', 'funder', 'installer', 'ward', 'lga']]\n",
        "test = test.drop(columns=['funder', 'installer', 'ward', 'lga'])\n",
        "nans_test = test[['id', 'public_meeting', 'scheme_management', 'permit']]\n",
        "test = test.drop(columns=['public_meeting', 'scheme_management', 'permit'])\n",
        "Baselinetest = test.drop(columns='id')"
      ],
      "execution_count": 0,
      "outputs": []
    },
    {
      "metadata": {
        "id": "vrn9e8jumVdy",
        "colab_type": "code",
        "colab": {}
      },
      "cell_type": "code",
      "source": [
        "#Second Model\n",
        "funder_counts = highcardinality['funder'].value_counts()\n",
        "frequent_funders = funder_counts[funder_counts > 1000].index\n",
        "mask = highcardinality['funder'].isin(frequent_funders)\n",
        "rows_with_frequent_funders = highcardinality[mask]\n",
        "rows_without_frequent_funders = highcardinality[~mask]\n",
        "for value in rows_without_frequent_funders['funder'].unique():\n",
        "  rows_without_frequent_funders = rows_without_frequent_funders.replace({value:'Other'})\n",
        "highcardinality = rows_with_frequent_funders.append(rows_without_frequent_funders)\n",
        "\n",
        "highcardinality['installer'] = highcardinality['installer'].replace({'HESAWA':'Hesawa',\n",
        "                               'Central Government':'Government', 'Central government': 'Government',\n",
        "                               'DANID':'DANIDA', 'District council':'District Council',\n",
        "                               'Gover':'Government', 'Commu':'Community', 'World vision': 'World Vision',\n",
        "                               'Gove':'Government', 'DW':'DWE', 'Da':'DANIDA'})\n",
        "installer_counts = highcardinality['installer'].value_counts()\n",
        "frequent_installers = installer_counts[installer_counts > 1000].index\n",
        "mask = highcardinality['installer'].isin(frequent_installers)\n",
        "rows_with_frequent_installers = highcardinality[mask]\n",
        "rows_without_frequent_installers = highcardinality[~mask]\n",
        "for value in rows_without_frequent_installers['installer'].unique():\n",
        "  rows_without_frequent_installers = rows_without_frequent_installers.replace({value:'Other'})\n",
        "highcardinality = rows_with_frequent_installers.append(rows_without_frequent_installers)\n",
        "\n",
        "highcardinality = highcardinality.drop(columns='ward')\n",
        "\n",
        "lga_counts = highcardinality['lga'].value_counts()\n",
        "frequent_lga = lga_counts[lga_counts > 1000].index\n",
        "mask = highcardinality['lga'].isin(frequent_lga)\n",
        "rows_with_frequent_lga = highcardinality[mask]\n",
        "rows_without_frequent_lga = highcardinality[~mask]\n",
        "for value in rows_without_frequent_lga['lga'].unique():\n",
        "  rows_without_frequent_lga = rows_without_frequent_lga.replace({value:'Other'})\n",
        "highcardinality = rows_with_frequent_lga.append(rows_without_frequent_lga)\n",
        "\n",
        "nans = nans.replace({np.nan:0, True:1, False:0})\n",
        "nans['scheme_management'] = nans['scheme_management'].replace({0:'None'})\n",
        "\n",
        "date_recorded['year'] = date_recorded['date_recorded'].dt.year"
      ],
      "execution_count": 0,
      "outputs": []
    },
    {
      "metadata": {
        "id": "GH4oYtx1xq1q",
        "colab_type": "code",
        "colab": {}
      },
      "cell_type": "code",
      "source": [
        "train = train.merge(highcardinality, on='id', how='inner')\n",
        "train = train.merge(nans, on='id', how='inner')\n",
        "train = train.merge(date_recorded, on='id', how='inner')\n",
        "train = train.drop(columns='date_recorded')"
      ],
      "execution_count": 0,
      "outputs": []
    },
    {
      "metadata": {
        "id": "xN0COjUeyTlr",
        "colab_type": "code",
        "outputId": "bf4aee26-95e4-48a1-cb7b-fe0e48e5cd35",
        "colab": {
          "base_uri": "https://localhost:8080/",
          "height": 326
        }
      },
      "cell_type": "code",
      "source": [
        "train['construction_year'] = train['construction_year'].replace({0:train['year'].min()})\n",
        "train['gps_height'] = train['gps_height'].replace({0:train['gps_height'].mean()})\n",
        "train['years_from_installation'] = train['year'] - train['construction_year']\n",
        "train = train.drop(columns=['longitude', 'latitude', 'region', 'payment',\n",
        "                              'extraction_type', 'extraction_type_group',\n",
        "                              'quantity_group', 'source_type', 'waterpoint_type',\n",
        "                              'recorded_by', 'id'])\n",
        "pd.set_option('display.max_columns', None)\n",
        "train.head()"
      ],
      "execution_count": 0,
      "outputs": [
        {
          "output_type": "execute_result",
          "data": {
            "text/html": [
              "<div>\n",
              "<style scoped>\n",
              "    .dataframe tbody tr th:only-of-type {\n",
              "        vertical-align: middle;\n",
              "    }\n",
              "\n",
              "    .dataframe tbody tr th {\n",
              "        vertical-align: top;\n",
              "    }\n",
              "\n",
              "    .dataframe thead th {\n",
              "        text-align: right;\n",
              "    }\n",
              "</style>\n",
              "<table border=\"1\" class=\"dataframe\">\n",
              "  <thead>\n",
              "    <tr style=\"text-align: right;\">\n",
              "      <th></th>\n",
              "      <th>amount_tsh</th>\n",
              "      <th>gps_height</th>\n",
              "      <th>num_private</th>\n",
              "      <th>basin</th>\n",
              "      <th>region_code</th>\n",
              "      <th>district_code</th>\n",
              "      <th>population</th>\n",
              "      <th>construction_year</th>\n",
              "      <th>extraction_type_class</th>\n",
              "      <th>management</th>\n",
              "      <th>management_group</th>\n",
              "      <th>payment_type</th>\n",
              "      <th>water_quality</th>\n",
              "      <th>quality_group</th>\n",
              "      <th>quantity</th>\n",
              "      <th>source</th>\n",
              "      <th>source_class</th>\n",
              "      <th>waterpoint_type_group</th>\n",
              "      <th>funder</th>\n",
              "      <th>installer</th>\n",
              "      <th>lga</th>\n",
              "      <th>public_meeting</th>\n",
              "      <th>scheme_management</th>\n",
              "      <th>permit</th>\n",
              "      <th>year</th>\n",
              "      <th>years_from_installation</th>\n",
              "    </tr>\n",
              "  </thead>\n",
              "  <tbody>\n",
              "    <tr>\n",
              "      <th>0</th>\n",
              "      <td>6000.0</td>\n",
              "      <td>1390.000000</td>\n",
              "      <td>0</td>\n",
              "      <td>Lake Nyasa</td>\n",
              "      <td>11</td>\n",
              "      <td>5</td>\n",
              "      <td>109</td>\n",
              "      <td>1999</td>\n",
              "      <td>gravity</td>\n",
              "      <td>vwc</td>\n",
              "      <td>user-group</td>\n",
              "      <td>annually</td>\n",
              "      <td>soft</td>\n",
              "      <td>good</td>\n",
              "      <td>enough</td>\n",
              "      <td>spring</td>\n",
              "      <td>groundwater</td>\n",
              "      <td>communal standpipe</td>\n",
              "      <td>Other</td>\n",
              "      <td>Other</td>\n",
              "      <td>Other</td>\n",
              "      <td>1</td>\n",
              "      <td>VWC</td>\n",
              "      <td>0</td>\n",
              "      <td>2011</td>\n",
              "      <td>12</td>\n",
              "    </tr>\n",
              "    <tr>\n",
              "      <th>1</th>\n",
              "      <td>0.0</td>\n",
              "      <td>1399.000000</td>\n",
              "      <td>0</td>\n",
              "      <td>Lake Victoria</td>\n",
              "      <td>20</td>\n",
              "      <td>2</td>\n",
              "      <td>280</td>\n",
              "      <td>2010</td>\n",
              "      <td>gravity</td>\n",
              "      <td>wug</td>\n",
              "      <td>user-group</td>\n",
              "      <td>never pay</td>\n",
              "      <td>soft</td>\n",
              "      <td>good</td>\n",
              "      <td>insufficient</td>\n",
              "      <td>rainwater harvesting</td>\n",
              "      <td>surface</td>\n",
              "      <td>communal standpipe</td>\n",
              "      <td>Other</td>\n",
              "      <td>Other</td>\n",
              "      <td>Other</td>\n",
              "      <td>0</td>\n",
              "      <td>Other</td>\n",
              "      <td>1</td>\n",
              "      <td>2013</td>\n",
              "      <td>3</td>\n",
              "    </tr>\n",
              "    <tr>\n",
              "      <th>2</th>\n",
              "      <td>25.0</td>\n",
              "      <td>686.000000</td>\n",
              "      <td>0</td>\n",
              "      <td>Pangani</td>\n",
              "      <td>21</td>\n",
              "      <td>4</td>\n",
              "      <td>250</td>\n",
              "      <td>2009</td>\n",
              "      <td>gravity</td>\n",
              "      <td>vwc</td>\n",
              "      <td>user-group</td>\n",
              "      <td>per bucket</td>\n",
              "      <td>soft</td>\n",
              "      <td>good</td>\n",
              "      <td>enough</td>\n",
              "      <td>dam</td>\n",
              "      <td>surface</td>\n",
              "      <td>communal standpipe</td>\n",
              "      <td>Other</td>\n",
              "      <td>Other</td>\n",
              "      <td>Other</td>\n",
              "      <td>1</td>\n",
              "      <td>VWC</td>\n",
              "      <td>1</td>\n",
              "      <td>2013</td>\n",
              "      <td>4</td>\n",
              "    </tr>\n",
              "    <tr>\n",
              "      <th>3</th>\n",
              "      <td>0.0</td>\n",
              "      <td>263.000000</td>\n",
              "      <td>0</td>\n",
              "      <td>Ruvuma / Southern Coast</td>\n",
              "      <td>90</td>\n",
              "      <td>63</td>\n",
              "      <td>58</td>\n",
              "      <td>1986</td>\n",
              "      <td>submersible</td>\n",
              "      <td>vwc</td>\n",
              "      <td>user-group</td>\n",
              "      <td>never pay</td>\n",
              "      <td>soft</td>\n",
              "      <td>good</td>\n",
              "      <td>dry</td>\n",
              "      <td>machine dbh</td>\n",
              "      <td>groundwater</td>\n",
              "      <td>communal standpipe</td>\n",
              "      <td>Other</td>\n",
              "      <td>Other</td>\n",
              "      <td>Other</td>\n",
              "      <td>1</td>\n",
              "      <td>VWC</td>\n",
              "      <td>1</td>\n",
              "      <td>2013</td>\n",
              "      <td>27</td>\n",
              "    </tr>\n",
              "    <tr>\n",
              "      <th>4</th>\n",
              "      <td>0.0</td>\n",
              "      <td>668.297239</td>\n",
              "      <td>0</td>\n",
              "      <td>Lake Victoria</td>\n",
              "      <td>18</td>\n",
              "      <td>1</td>\n",
              "      <td>0</td>\n",
              "      <td>2002</td>\n",
              "      <td>gravity</td>\n",
              "      <td>other</td>\n",
              "      <td>other</td>\n",
              "      <td>never pay</td>\n",
              "      <td>soft</td>\n",
              "      <td>good</td>\n",
              "      <td>seasonal</td>\n",
              "      <td>rainwater harvesting</td>\n",
              "      <td>surface</td>\n",
              "      <td>communal standpipe</td>\n",
              "      <td>Other</td>\n",
              "      <td>Other</td>\n",
              "      <td>Other</td>\n",
              "      <td>1</td>\n",
              "      <td>None</td>\n",
              "      <td>1</td>\n",
              "      <td>2011</td>\n",
              "      <td>9</td>\n",
              "    </tr>\n",
              "  </tbody>\n",
              "</table>\n",
              "</div>"
            ],
            "text/plain": [
              "   amount_tsh   gps_height  num_private                    basin  region_code  \\\n",
              "0      6000.0  1390.000000            0               Lake Nyasa           11   \n",
              "1         0.0  1399.000000            0            Lake Victoria           20   \n",
              "2        25.0   686.000000            0                  Pangani           21   \n",
              "3         0.0   263.000000            0  Ruvuma / Southern Coast           90   \n",
              "4         0.0   668.297239            0            Lake Victoria           18   \n",
              "\n",
              "   district_code  population  construction_year extraction_type_class  \\\n",
              "0              5         109               1999               gravity   \n",
              "1              2         280               2010               gravity   \n",
              "2              4         250               2009               gravity   \n",
              "3             63          58               1986           submersible   \n",
              "4              1           0               2002               gravity   \n",
              "\n",
              "  management management_group payment_type water_quality quality_group  \\\n",
              "0        vwc       user-group     annually          soft          good   \n",
              "1        wug       user-group    never pay          soft          good   \n",
              "2        vwc       user-group   per bucket          soft          good   \n",
              "3        vwc       user-group    never pay          soft          good   \n",
              "4      other            other    never pay          soft          good   \n",
              "\n",
              "       quantity                source source_class waterpoint_type_group  \\\n",
              "0        enough                spring  groundwater    communal standpipe   \n",
              "1  insufficient  rainwater harvesting      surface    communal standpipe   \n",
              "2        enough                   dam      surface    communal standpipe   \n",
              "3           dry           machine dbh  groundwater    communal standpipe   \n",
              "4      seasonal  rainwater harvesting      surface    communal standpipe   \n",
              "\n",
              "  funder installer    lga  public_meeting scheme_management  permit  year  \\\n",
              "0  Other     Other  Other               1               VWC       0  2011   \n",
              "1  Other     Other  Other               0             Other       1  2013   \n",
              "2  Other     Other  Other               1               VWC       1  2013   \n",
              "3  Other     Other  Other               1               VWC       1  2013   \n",
              "4  Other     Other  Other               1              None       1  2011   \n",
              "\n",
              "   years_from_installation  \n",
              "0                       12  \n",
              "1                        3  \n",
              "2                        4  \n",
              "3                       27  \n",
              "4                        9  "
            ]
          },
          "metadata": {
            "tags": []
          },
          "execution_count": 41
        }
      ]
    },
    {
      "metadata": {
        "id": "YmAbi3gaVazb",
        "colab_type": "code",
        "outputId": "42688f8c-13ff-46d2-835b-04fca8930685",
        "colab": {
          "base_uri": "https://localhost:8080/",
          "height": 377
        }
      },
      "cell_type": "code",
      "source": [
        "#date_recorded_test, highcardinality_test, nans_test, test\n",
        "\n",
        "funder_counts = highcardinality_test['funder'].value_counts()\n",
        "frequent_funders = funder_counts[funder_counts > 1000].index\n",
        "mask = highcardinality_test['funder'].isin(frequent_funders)\n",
        "rows_with_frequent_funders = highcardinality_test[mask]\n",
        "rows_without_frequent_funders = highcardinality_test[~mask]\n",
        "for value in rows_without_frequent_funders['funder'].unique():\n",
        "  rows_without_frequent_funders = rows_without_frequent_funders.replace({value:'Other'})\n",
        "highcardinality_test = rows_with_frequent_funders.append(rows_without_frequent_funders)\n",
        "\n",
        "highcardinality_test['installer'] = highcardinality_test['installer'].replace({'HESAWA':'Hesawa',\n",
        "                               'Central Government':'Government', 'Central government': 'Government',\n",
        "                               'DANID':'DANIDA', 'District council':'District Council',\n",
        "                               'Gover':'Government', 'Commu':'Community', 'World vision': 'World Vision',\n",
        "                               'Gove':'Government', 'DW':'DWE', 'Da':'DANIDA'})\n",
        "installer_counts = highcardinality_test['installer'].value_counts()\n",
        "frequent_installers = installer_counts[installer_counts > 1000].index\n",
        "mask = highcardinality_test['installer'].isin(frequent_installers)\n",
        "rows_with_frequent_installers = highcardinality_test[mask]\n",
        "rows_without_frequent_installers = highcardinality_test[~mask]\n",
        "for value in rows_without_frequent_installers['installer'].unique():\n",
        "  rows_without_frequent_installers = rows_without_frequent_installers.replace({value:'Other'})\n",
        "highcardinality_test = rows_with_frequent_installers.append(rows_without_frequent_installers)\n",
        "\n",
        "highcardinality_test = highcardinality_test.drop(columns='ward')\n",
        "\n",
        "lga_counts = highcardinality_test['lga'].value_counts()\n",
        "frequent_lga = lga_counts[lga_counts > 1000].index\n",
        "mask = highcardinality_test['lga'].isin(frequent_lga)\n",
        "rows_with_frequent_lga = highcardinality_test[mask]\n",
        "rows_without_frequent_lga = highcardinality_test[~mask]\n",
        "for value in rows_without_frequent_lga['lga'].unique():\n",
        "  rows_without_frequent_lga = rows_without_frequent_lga.replace({value:'Other'})\n",
        "highcardinality_test = rows_with_frequent_lga.append(rows_without_frequent_lga)\n",
        "\n",
        "nans_test = nans_test.replace({np.nan:0, True:1, False:0})\n",
        "nans_test['scheme_management'] = nans_test['scheme_management'].replace({0:'None'})\n",
        "\n",
        "date_recorded_test['year'] = date_recorded_test['date_recorded'].dt.year\n",
        "\n",
        "test = test.merge(highcardinality_test, on='id', how='inner')\n",
        "test = test.merge(nans_test, on='id', how='inner')\n",
        "test = test.merge(date_recorded_test, on='id', how='inner')\n",
        "test = test.drop(columns='date_recorded')\n",
        "\n",
        "test['construction_year'] = test['construction_year'].replace({0:test['year'].min()})\n",
        "test['gps_height'] = test['gps_height'].replace({0:test['gps_height'].mean()})\n",
        "test['years_from_installation'] = test['year'] - test['construction_year']\n",
        "test = test.drop(columns=['longitude', 'latitude', 'region', 'payment',\n",
        "                              'extraction_type', 'extraction_type_group',\n",
        "                              'quantity_group', 'source_type', 'waterpoint_type',\n",
        "                              'recorded_by', 'id'])\n",
        "pd.set_option('display.max_columns', None)\n",
        "test.head()"
      ],
      "execution_count": 0,
      "outputs": [
        {
          "output_type": "execute_result",
          "data": {
            "text/html": [
              "<div>\n",
              "<style scoped>\n",
              "    .dataframe tbody tr th:only-of-type {\n",
              "        vertical-align: middle;\n",
              "    }\n",
              "\n",
              "    .dataframe tbody tr th {\n",
              "        vertical-align: top;\n",
              "    }\n",
              "\n",
              "    .dataframe thead th {\n",
              "        text-align: right;\n",
              "    }\n",
              "</style>\n",
              "<table border=\"1\" class=\"dataframe\">\n",
              "  <thead>\n",
              "    <tr style=\"text-align: right;\">\n",
              "      <th></th>\n",
              "      <th>amount_tsh</th>\n",
              "      <th>gps_height</th>\n",
              "      <th>num_private</th>\n",
              "      <th>basin</th>\n",
              "      <th>region_code</th>\n",
              "      <th>district_code</th>\n",
              "      <th>population</th>\n",
              "      <th>construction_year</th>\n",
              "      <th>extraction_type_class</th>\n",
              "      <th>management</th>\n",
              "      <th>management_group</th>\n",
              "      <th>payment_type</th>\n",
              "      <th>water_quality</th>\n",
              "      <th>quality_group</th>\n",
              "      <th>quantity</th>\n",
              "      <th>source</th>\n",
              "      <th>source_class</th>\n",
              "      <th>waterpoint_type_group</th>\n",
              "      <th>funder</th>\n",
              "      <th>installer</th>\n",
              "      <th>lga</th>\n",
              "      <th>public_meeting</th>\n",
              "      <th>scheme_management</th>\n",
              "      <th>permit</th>\n",
              "      <th>year</th>\n",
              "      <th>years_from_installation</th>\n",
              "    </tr>\n",
              "  </thead>\n",
              "  <tbody>\n",
              "    <tr>\n",
              "      <th>0</th>\n",
              "      <td>0.0</td>\n",
              "      <td>1996.0</td>\n",
              "      <td>0</td>\n",
              "      <td>Internal</td>\n",
              "      <td>21</td>\n",
              "      <td>3</td>\n",
              "      <td>321</td>\n",
              "      <td>2012</td>\n",
              "      <td>other</td>\n",
              "      <td>parastatal</td>\n",
              "      <td>parastatal</td>\n",
              "      <td>never pay</td>\n",
              "      <td>soft</td>\n",
              "      <td>good</td>\n",
              "      <td>seasonal</td>\n",
              "      <td>rainwater harvesting</td>\n",
              "      <td>surface</td>\n",
              "      <td>other</td>\n",
              "      <td>Other</td>\n",
              "      <td>Other</td>\n",
              "      <td>Other</td>\n",
              "      <td>1</td>\n",
              "      <td>Parastatal</td>\n",
              "      <td>1</td>\n",
              "      <td>2013</td>\n",
              "      <td>1</td>\n",
              "    </tr>\n",
              "    <tr>\n",
              "      <th>1</th>\n",
              "      <td>0.0</td>\n",
              "      <td>1569.0</td>\n",
              "      <td>0</td>\n",
              "      <td>Pangani</td>\n",
              "      <td>2</td>\n",
              "      <td>2</td>\n",
              "      <td>300</td>\n",
              "      <td>2000</td>\n",
              "      <td>gravity</td>\n",
              "      <td>vwc</td>\n",
              "      <td>user-group</td>\n",
              "      <td>never pay</td>\n",
              "      <td>soft</td>\n",
              "      <td>good</td>\n",
              "      <td>insufficient</td>\n",
              "      <td>spring</td>\n",
              "      <td>groundwater</td>\n",
              "      <td>communal standpipe</td>\n",
              "      <td>Government Of Tanzania</td>\n",
              "      <td>DWE</td>\n",
              "      <td>Other</td>\n",
              "      <td>1</td>\n",
              "      <td>VWC</td>\n",
              "      <td>1</td>\n",
              "      <td>2013</td>\n",
              "      <td>13</td>\n",
              "    </tr>\n",
              "    <tr>\n",
              "      <th>2</th>\n",
              "      <td>0.0</td>\n",
              "      <td>1567.0</td>\n",
              "      <td>0</td>\n",
              "      <td>Internal</td>\n",
              "      <td>13</td>\n",
              "      <td>2</td>\n",
              "      <td>500</td>\n",
              "      <td>2010</td>\n",
              "      <td>other</td>\n",
              "      <td>vwc</td>\n",
              "      <td>user-group</td>\n",
              "      <td>never pay</td>\n",
              "      <td>soft</td>\n",
              "      <td>good</td>\n",
              "      <td>insufficient</td>\n",
              "      <td>rainwater harvesting</td>\n",
              "      <td>surface</td>\n",
              "      <td>other</td>\n",
              "      <td>Other</td>\n",
              "      <td>Other</td>\n",
              "      <td>Other</td>\n",
              "      <td>1</td>\n",
              "      <td>VWC</td>\n",
              "      <td>0</td>\n",
              "      <td>2013</td>\n",
              "      <td>3</td>\n",
              "    </tr>\n",
              "    <tr>\n",
              "      <th>3</th>\n",
              "      <td>0.0</td>\n",
              "      <td>267.0</td>\n",
              "      <td>0</td>\n",
              "      <td>Ruvuma / Southern Coast</td>\n",
              "      <td>80</td>\n",
              "      <td>43</td>\n",
              "      <td>250</td>\n",
              "      <td>1987</td>\n",
              "      <td>other</td>\n",
              "      <td>vwc</td>\n",
              "      <td>user-group</td>\n",
              "      <td>unknown</td>\n",
              "      <td>soft</td>\n",
              "      <td>good</td>\n",
              "      <td>dry</td>\n",
              "      <td>shallow well</td>\n",
              "      <td>groundwater</td>\n",
              "      <td>other</td>\n",
              "      <td>Other</td>\n",
              "      <td>Other</td>\n",
              "      <td>Other</td>\n",
              "      <td>0</td>\n",
              "      <td>VWC</td>\n",
              "      <td>1</td>\n",
              "      <td>2013</td>\n",
              "      <td>26</td>\n",
              "    </tr>\n",
              "    <tr>\n",
              "      <th>4</th>\n",
              "      <td>500.0</td>\n",
              "      <td>1260.0</td>\n",
              "      <td>0</td>\n",
              "      <td>Ruvuma / Southern Coast</td>\n",
              "      <td>10</td>\n",
              "      <td>3</td>\n",
              "      <td>60</td>\n",
              "      <td>2000</td>\n",
              "      <td>gravity</td>\n",
              "      <td>water board</td>\n",
              "      <td>user-group</td>\n",
              "      <td>monthly</td>\n",
              "      <td>soft</td>\n",
              "      <td>good</td>\n",
              "      <td>enough</td>\n",
              "      <td>spring</td>\n",
              "      <td>groundwater</td>\n",
              "      <td>communal standpipe</td>\n",
              "      <td>Other</td>\n",
              "      <td>Other</td>\n",
              "      <td>Other</td>\n",
              "      <td>0</td>\n",
              "      <td>Water Board</td>\n",
              "      <td>1</td>\n",
              "      <td>2013</td>\n",
              "      <td>13</td>\n",
              "    </tr>\n",
              "  </tbody>\n",
              "</table>\n",
              "</div>"
            ],
            "text/plain": [
              "   amount_tsh  gps_height  num_private                    basin  region_code  \\\n",
              "0         0.0      1996.0            0                 Internal           21   \n",
              "1         0.0      1569.0            0                  Pangani            2   \n",
              "2         0.0      1567.0            0                 Internal           13   \n",
              "3         0.0       267.0            0  Ruvuma / Southern Coast           80   \n",
              "4       500.0      1260.0            0  Ruvuma / Southern Coast           10   \n",
              "\n",
              "   district_code  population  construction_year extraction_type_class  \\\n",
              "0              3         321               2012                 other   \n",
              "1              2         300               2000               gravity   \n",
              "2              2         500               2010                 other   \n",
              "3             43         250               1987                 other   \n",
              "4              3          60               2000               gravity   \n",
              "\n",
              "    management management_group payment_type water_quality quality_group  \\\n",
              "0   parastatal       parastatal    never pay          soft          good   \n",
              "1          vwc       user-group    never pay          soft          good   \n",
              "2          vwc       user-group    never pay          soft          good   \n",
              "3          vwc       user-group      unknown          soft          good   \n",
              "4  water board       user-group      monthly          soft          good   \n",
              "\n",
              "       quantity                source source_class waterpoint_type_group  \\\n",
              "0      seasonal  rainwater harvesting      surface                 other   \n",
              "1  insufficient                spring  groundwater    communal standpipe   \n",
              "2  insufficient  rainwater harvesting      surface                 other   \n",
              "3           dry          shallow well  groundwater                 other   \n",
              "4        enough                spring  groundwater    communal standpipe   \n",
              "\n",
              "                   funder installer    lga  public_meeting scheme_management  \\\n",
              "0                   Other     Other  Other               1        Parastatal   \n",
              "1  Government Of Tanzania       DWE  Other               1               VWC   \n",
              "2                   Other     Other  Other               1               VWC   \n",
              "3                   Other     Other  Other               0               VWC   \n",
              "4                   Other     Other  Other               0       Water Board   \n",
              "\n",
              "   permit  year  years_from_installation  \n",
              "0       1  2013                        1  \n",
              "1       1  2013                       13  \n",
              "2       0  2013                        3  \n",
              "3       1  2013                       26  \n",
              "4       1  2013                       13  "
            ]
          },
          "metadata": {
            "tags": []
          },
          "execution_count": 42
        }
      ]
    },
    {
      "metadata": {
        "id": "9dXm3wsHYpbA",
        "colab_type": "text"
      },
      "cell_type": "markdown",
      "source": [
        "# **Shaping Xtrain and ytrain, first pass**"
      ]
    },
    {
      "metadata": {
        "id": "lDNdq1zUYAnK",
        "colab_type": "code",
        "outputId": "756500b6-9d68-44f1-9fc3-a714a0106630",
        "colab": {
          "base_uri": "https://localhost:8080/",
          "height": 134
        }
      },
      "cell_type": "code",
      "source": [
        "pd.set_option('display.max_columns', None)\n",
        "Xtrain.head(1)"
      ],
      "execution_count": 0,
      "outputs": [
        {
          "output_type": "execute_result",
          "data": {
            "text/html": [
              "<div>\n",
              "<style scoped>\n",
              "    .dataframe tbody tr th:only-of-type {\n",
              "        vertical-align: middle;\n",
              "    }\n",
              "\n",
              "    .dataframe tbody tr th {\n",
              "        vertical-align: top;\n",
              "    }\n",
              "\n",
              "    .dataframe thead th {\n",
              "        text-align: right;\n",
              "    }\n",
              "</style>\n",
              "<table border=\"1\" class=\"dataframe\">\n",
              "  <thead>\n",
              "    <tr style=\"text-align: right;\">\n",
              "      <th></th>\n",
              "      <th>id</th>\n",
              "      <th>amount_tsh</th>\n",
              "      <th>date_recorded</th>\n",
              "      <th>funder</th>\n",
              "      <th>gps_height</th>\n",
              "      <th>installer</th>\n",
              "      <th>longitude</th>\n",
              "      <th>latitude</th>\n",
              "      <th>wpt_name</th>\n",
              "      <th>num_private</th>\n",
              "      <th>basin</th>\n",
              "      <th>subvillage</th>\n",
              "      <th>region</th>\n",
              "      <th>region_code</th>\n",
              "      <th>district_code</th>\n",
              "      <th>lga</th>\n",
              "      <th>ward</th>\n",
              "      <th>population</th>\n",
              "      <th>public_meeting</th>\n",
              "      <th>recorded_by</th>\n",
              "      <th>scheme_management</th>\n",
              "      <th>scheme_name</th>\n",
              "      <th>permit</th>\n",
              "      <th>construction_year</th>\n",
              "      <th>extraction_type</th>\n",
              "      <th>extraction_type_group</th>\n",
              "      <th>extraction_type_class</th>\n",
              "      <th>management</th>\n",
              "      <th>management_group</th>\n",
              "      <th>payment</th>\n",
              "      <th>payment_type</th>\n",
              "      <th>water_quality</th>\n",
              "      <th>quality_group</th>\n",
              "      <th>quantity</th>\n",
              "      <th>quantity_group</th>\n",
              "      <th>source</th>\n",
              "      <th>source_type</th>\n",
              "      <th>source_class</th>\n",
              "      <th>waterpoint_type</th>\n",
              "      <th>waterpoint_type_group</th>\n",
              "    </tr>\n",
              "  </thead>\n",
              "  <tbody>\n",
              "    <tr>\n",
              "      <th>0</th>\n",
              "      <td>69572</td>\n",
              "      <td>6000.0</td>\n",
              "      <td>2011-03-14</td>\n",
              "      <td>Roman</td>\n",
              "      <td>1390</td>\n",
              "      <td>Roman</td>\n",
              "      <td>34.938093</td>\n",
              "      <td>-9.856322</td>\n",
              "      <td>none</td>\n",
              "      <td>0</td>\n",
              "      <td>Lake Nyasa</td>\n",
              "      <td>Mnyusi B</td>\n",
              "      <td>Iringa</td>\n",
              "      <td>11</td>\n",
              "      <td>5</td>\n",
              "      <td>Ludewa</td>\n",
              "      <td>Mundindi</td>\n",
              "      <td>109</td>\n",
              "      <td>True</td>\n",
              "      <td>GeoData Consultants Ltd</td>\n",
              "      <td>VWC</td>\n",
              "      <td>Roman</td>\n",
              "      <td>False</td>\n",
              "      <td>1999</td>\n",
              "      <td>gravity</td>\n",
              "      <td>gravity</td>\n",
              "      <td>gravity</td>\n",
              "      <td>vwc</td>\n",
              "      <td>user-group</td>\n",
              "      <td>pay annually</td>\n",
              "      <td>annually</td>\n",
              "      <td>soft</td>\n",
              "      <td>good</td>\n",
              "      <td>enough</td>\n",
              "      <td>enough</td>\n",
              "      <td>spring</td>\n",
              "      <td>spring</td>\n",
              "      <td>groundwater</td>\n",
              "      <td>communal standpipe</td>\n",
              "      <td>communal standpipe</td>\n",
              "    </tr>\n",
              "  </tbody>\n",
              "</table>\n",
              "</div>"
            ],
            "text/plain": [
              "      id  amount_tsh date_recorded funder  gps_height installer  longitude  \\\n",
              "0  69572      6000.0    2011-03-14  Roman        1390     Roman  34.938093   \n",
              "\n",
              "   latitude wpt_name  num_private       basin subvillage  region  region_code  \\\n",
              "0 -9.856322     none            0  Lake Nyasa   Mnyusi B  Iringa           11   \n",
              "\n",
              "   district_code     lga      ward  population public_meeting  \\\n",
              "0              5  Ludewa  Mundindi         109           True   \n",
              "\n",
              "               recorded_by scheme_management scheme_name permit  \\\n",
              "0  GeoData Consultants Ltd               VWC       Roman  False   \n",
              "\n",
              "   construction_year extraction_type extraction_type_group  \\\n",
              "0               1999         gravity               gravity   \n",
              "\n",
              "  extraction_type_class management management_group       payment  \\\n",
              "0               gravity        vwc       user-group  pay annually   \n",
              "\n",
              "  payment_type water_quality quality_group quantity quantity_group  source  \\\n",
              "0     annually          soft          good   enough         enough  spring   \n",
              "\n",
              "  source_type source_class     waterpoint_type waterpoint_type_group  \n",
              "0      spring  groundwater  communal standpipe    communal standpipe  "
            ]
          },
          "metadata": {
            "tags": []
          },
          "execution_count": 5
        }
      ]
    },
    {
      "metadata": {
        "id": "BoTTP7XBYTYF",
        "colab_type": "code",
        "outputId": "724eccbc-5bce-47cd-a1e7-d189aebd4bc9",
        "colab": {
          "base_uri": "https://localhost:8080/",
          "height": 782
        }
      },
      "cell_type": "code",
      "source": [
        "Xtrain.info()"
      ],
      "execution_count": 0,
      "outputs": [
        {
          "output_type": "stream",
          "text": [
            "<class 'pandas.core.frame.DataFrame'>\n",
            "RangeIndex: 59400 entries, 0 to 59399\n",
            "Data columns (total 40 columns):\n",
            "id                       59400 non-null int64\n",
            "amount_tsh               59400 non-null float64\n",
            "date_recorded            59400 non-null object\n",
            "funder                   55765 non-null object\n",
            "gps_height               59400 non-null int64\n",
            "installer                55745 non-null object\n",
            "longitude                59400 non-null float64\n",
            "latitude                 59400 non-null float64\n",
            "wpt_name                 59400 non-null object\n",
            "num_private              59400 non-null int64\n",
            "basin                    59400 non-null object\n",
            "subvillage               59029 non-null object\n",
            "region                   59400 non-null object\n",
            "region_code              59400 non-null int64\n",
            "district_code            59400 non-null int64\n",
            "lga                      59400 non-null object\n",
            "ward                     59400 non-null object\n",
            "population               59400 non-null int64\n",
            "public_meeting           56066 non-null object\n",
            "recorded_by              59400 non-null object\n",
            "scheme_management        55523 non-null object\n",
            "scheme_name              31234 non-null object\n",
            "permit                   56344 non-null object\n",
            "construction_year        59400 non-null int64\n",
            "extraction_type          59400 non-null object\n",
            "extraction_type_group    59400 non-null object\n",
            "extraction_type_class    59400 non-null object\n",
            "management               59400 non-null object\n",
            "management_group         59400 non-null object\n",
            "payment                  59400 non-null object\n",
            "payment_type             59400 non-null object\n",
            "water_quality            59400 non-null object\n",
            "quality_group            59400 non-null object\n",
            "quantity                 59400 non-null object\n",
            "quantity_group           59400 non-null object\n",
            "source                   59400 non-null object\n",
            "source_type              59400 non-null object\n",
            "source_class             59400 non-null object\n",
            "waterpoint_type          59400 non-null object\n",
            "waterpoint_type_group    59400 non-null object\n",
            "dtypes: float64(3), int64(7), object(30)\n",
            "memory usage: 18.1+ MB\n"
          ],
          "name": "stdout"
        }
      ]
    },
    {
      "metadata": {
        "id": "xKyGoILq89RM",
        "colab_type": "code",
        "outputId": "44f85bde-7d50-422d-f5e5-77fc17cc9815",
        "colab": {
          "base_uri": "https://localhost:8080/",
          "height": 714
        }
      },
      "cell_type": "code",
      "source": [
        "Xtrain.isnull().sum()"
      ],
      "execution_count": 0,
      "outputs": [
        {
          "output_type": "execute_result",
          "data": {
            "text/plain": [
              "id                           0\n",
              "amount_tsh                   0\n",
              "date_recorded                0\n",
              "funder                    3635\n",
              "gps_height                   0\n",
              "installer                 3655\n",
              "longitude                    0\n",
              "latitude                     0\n",
              "wpt_name                     0\n",
              "num_private                  0\n",
              "basin                        0\n",
              "subvillage                 371\n",
              "region                       0\n",
              "region_code                  0\n",
              "district_code                0\n",
              "lga                          0\n",
              "ward                         0\n",
              "population                   0\n",
              "public_meeting            3334\n",
              "recorded_by                  0\n",
              "scheme_management         3877\n",
              "scheme_name              28166\n",
              "permit                    3056\n",
              "construction_year            0\n",
              "extraction_type              0\n",
              "extraction_type_group        0\n",
              "extraction_type_class        0\n",
              "management                   0\n",
              "management_group             0\n",
              "payment                      0\n",
              "payment_type                 0\n",
              "water_quality                0\n",
              "quality_group                0\n",
              "quantity                     0\n",
              "quantity_group               0\n",
              "source                       0\n",
              "source_type                  0\n",
              "source_class                 0\n",
              "waterpoint_type              0\n",
              "waterpoint_type_group        0\n",
              "dtype: int64"
            ]
          },
          "metadata": {
            "tags": []
          },
          "execution_count": 7
        }
      ]
    },
    {
      "metadata": {
        "id": "L3hy122Yf8Vt",
        "colab_type": "code",
        "colab": {}
      },
      "cell_type": "code",
      "source": [
        "#drop date_recorded for baseline\n",
        "#later, convert date_recorded to year and month\n",
        "Xtrain['date_recorded'] = pd.to_datetime(Xtrain['date_recorded'])\n",
        "date_recorded = Xtrain[['date_recorded', 'id']]\n",
        "Xtrain = Xtrain.drop(columns='date_recorded')"
      ],
      "execution_count": 0,
      "outputs": []
    },
    {
      "metadata": {
        "id": "wSbsOJ0F8lAs",
        "colab_type": "code",
        "outputId": "99ec6471-9e63-41f3-cddf-c656a130f11e",
        "colab": {
          "base_uri": "https://localhost:8080/",
          "height": 527
        }
      },
      "cell_type": "code",
      "source": [
        "#evaluate which columns could run into encoding problems\n",
        "Xtrain.select_dtypes(exclude=np.number).nunique()"
      ],
      "execution_count": 0,
      "outputs": [
        {
          "output_type": "execute_result",
          "data": {
            "text/plain": [
              "funder                    1897\n",
              "installer                 2145\n",
              "wpt_name                 37400\n",
              "basin                        9\n",
              "subvillage               19287\n",
              "region                      21\n",
              "lga                        125\n",
              "ward                      2092\n",
              "public_meeting               2\n",
              "recorded_by                  1\n",
              "scheme_management           12\n",
              "scheme_name               2696\n",
              "permit                       2\n",
              "extraction_type             18\n",
              "extraction_type_group       13\n",
              "extraction_type_class        7\n",
              "management                  12\n",
              "management_group             5\n",
              "payment                      7\n",
              "payment_type                 7\n",
              "water_quality                8\n",
              "quality_group                6\n",
              "quantity                     5\n",
              "quantity_group               5\n",
              "source                      10\n",
              "source_type                  7\n",
              "source_class                 3\n",
              "waterpoint_type              7\n",
              "waterpoint_type_group        6\n",
              "dtype: int64"
            ]
          },
          "metadata": {
            "tags": []
          },
          "execution_count": 54
        }
      ]
    },
    {
      "metadata": {
        "id": "XuEHATj1-w2s",
        "colab_type": "code",
        "colab": {}
      },
      "cell_type": "code",
      "source": [
        "#wpt_name, subvillage, scheme name(mostly uniques and nans) appear unsalvageable\n",
        "Xtrain = Xtrain.drop(columns=['wpt_name', 'subvillage', 'scheme_name'])"
      ],
      "execution_count": 0,
      "outputs": []
    },
    {
      "metadata": {
        "id": "eA1hZDQe_vjP",
        "colab_type": "code",
        "colab": {}
      },
      "cell_type": "code",
      "source": [
        "#drop funder, installer, ward to analyze later\n",
        "highcardinality = Xtrain[['id', 'funder', 'installer', 'ward']]\n",
        "Xtrain = Xtrain.drop(columns=['funder', 'installer', 'ward'])"
      ],
      "execution_count": 0,
      "outputs": []
    },
    {
      "metadata": {
        "id": "qvCAR_NvBed7",
        "colab_type": "code",
        "colab": {}
      },
      "cell_type": "code",
      "source": [
        "#drop public_meeting, scheme_management, and permit, the remaining cols with nans\n",
        "#two of these are binary and it makes sense to drop na, but it would complicate\n",
        "#splitting and recombining the columns at this stage\n",
        "#I would consider longitude and latitude 0 to be nans too, but I'll keep for now\n",
        "nans = Xtrain[['id', 'public_meeting', 'scheme_management', 'permit']]\n",
        "Xtrain = Xtrain.drop(columns=['public_meeting', 'scheme_management', 'permit'])"
      ],
      "execution_count": 0,
      "outputs": []
    },
    {
      "metadata": {
        "id": "uGQH4KVQC554",
        "colab_type": "code",
        "outputId": "357feb4a-80d5-43c5-9f1e-c25ee348772e",
        "colab": {
          "base_uri": "https://localhost:8080/",
          "height": 544
        }
      },
      "cell_type": "code",
      "source": [
        "#The Xtrain dataset to one-hot encode\n",
        "Xtrain.isnull().sum()"
      ],
      "execution_count": 0,
      "outputs": [
        {
          "output_type": "execute_result",
          "data": {
            "text/plain": [
              "id                       0\n",
              "amount_tsh               0\n",
              "gps_height               0\n",
              "longitude                0\n",
              "latitude                 0\n",
              "num_private              0\n",
              "basin                    0\n",
              "region                   0\n",
              "region_code              0\n",
              "district_code            0\n",
              "lga                      0\n",
              "population               0\n",
              "recorded_by              0\n",
              "construction_year        0\n",
              "extraction_type          0\n",
              "extraction_type_group    0\n",
              "extraction_type_class    0\n",
              "management               0\n",
              "management_group         0\n",
              "payment                  0\n",
              "payment_type             0\n",
              "water_quality            0\n",
              "quality_group            0\n",
              "quantity                 0\n",
              "quantity_group           0\n",
              "source                   0\n",
              "source_type              0\n",
              "source_class             0\n",
              "waterpoint_type          0\n",
              "waterpoint_type_group    0\n",
              "dtype: int64"
            ]
          },
          "metadata": {
            "tags": []
          },
          "execution_count": 12
        }
      ]
    },
    {
      "metadata": {
        "id": "xtr4w7sLDMOW",
        "colab_type": "code",
        "outputId": "e3420fc8-30d3-4268-c980-6211b02ce1ef",
        "colab": {
          "base_uri": "https://localhost:8080/",
          "height": 374
        }
      },
      "cell_type": "code",
      "source": [
        "Xtrain.select_dtypes(exclude=np.number).nunique()"
      ],
      "execution_count": 0,
      "outputs": [
        {
          "output_type": "execute_result",
          "data": {
            "text/plain": [
              "basin                      9\n",
              "region                    21\n",
              "lga                      125\n",
              "recorded_by                1\n",
              "extraction_type           18\n",
              "extraction_type_group     13\n",
              "extraction_type_class      7\n",
              "management                12\n",
              "management_group           5\n",
              "payment                    7\n",
              "payment_type               7\n",
              "water_quality              8\n",
              "quality_group              6\n",
              "quantity                   5\n",
              "quantity_group             5\n",
              "source                    10\n",
              "source_type                7\n",
              "source_class               3\n",
              "waterpoint_type            7\n",
              "waterpoint_type_group      6\n",
              "dtype: int64"
            ]
          },
          "metadata": {
            "tags": []
          },
          "execution_count": 13
        }
      ]
    },
    {
      "metadata": {
        "id": "Xh43cLERDhyg",
        "colab_type": "code",
        "colab": {}
      },
      "cell_type": "code",
      "source": [
        "#missed lga as problematic\n",
        "highcardinality['lga'] = Xtrain['lga']\n",
        "Xtrain = Xtrain.drop(columns='lga')"
      ],
      "execution_count": 0,
      "outputs": []
    },
    {
      "metadata": {
        "id": "ZmOGzWa6HJuY",
        "colab_type": "code",
        "colab": {}
      },
      "cell_type": "code",
      "source": [
        "#id is needed later, but isn't predictive\n",
        "BaselineX = Xtrain.drop(columns='id')"
      ],
      "execution_count": 0,
      "outputs": []
    },
    {
      "metadata": {
        "id": "A7fAbu0KcRQG",
        "colab_type": "code",
        "outputId": "9483e57f-2a49-4b7c-c0db-d49751c9004b",
        "colab": {
          "base_uri": "https://localhost:8080/",
          "height": 80
        }
      },
      "cell_type": "code",
      "source": [
        "ytrain.head(1)"
      ],
      "execution_count": 0,
      "outputs": [
        {
          "output_type": "execute_result",
          "data": {
            "text/html": [
              "<div>\n",
              "<style scoped>\n",
              "    .dataframe tbody tr th:only-of-type {\n",
              "        vertical-align: middle;\n",
              "    }\n",
              "\n",
              "    .dataframe tbody tr th {\n",
              "        vertical-align: top;\n",
              "    }\n",
              "\n",
              "    .dataframe thead th {\n",
              "        text-align: right;\n",
              "    }\n",
              "</style>\n",
              "<table border=\"1\" class=\"dataframe\">\n",
              "  <thead>\n",
              "    <tr style=\"text-align: right;\">\n",
              "      <th></th>\n",
              "      <th>id</th>\n",
              "      <th>status_group</th>\n",
              "    </tr>\n",
              "  </thead>\n",
              "  <tbody>\n",
              "    <tr>\n",
              "      <th>0</th>\n",
              "      <td>69572</td>\n",
              "      <td>functional</td>\n",
              "    </tr>\n",
              "  </tbody>\n",
              "</table>\n",
              "</div>"
            ],
            "text/plain": [
              "      id status_group\n",
              "0  69572   functional"
            ]
          },
          "metadata": {
            "tags": []
          },
          "execution_count": 16
        }
      ]
    },
    {
      "metadata": {
        "id": "DikdhwvQH_V1",
        "colab_type": "code",
        "outputId": "038b141f-ba5d-478e-847c-a9a82d3b06f3",
        "colab": {
          "base_uri": "https://localhost:8080/",
          "height": 85
        }
      },
      "cell_type": "code",
      "source": [
        "ytrain['status_group'].value_counts()"
      ],
      "execution_count": 0,
      "outputs": [
        {
          "output_type": "execute_result",
          "data": {
            "text/plain": [
              "functional                 32259\n",
              "non functional             22824\n",
              "functional needs repair     4317\n",
              "Name: status_group, dtype: int64"
            ]
          },
          "metadata": {
            "tags": []
          },
          "execution_count": 31
        }
      ]
    },
    {
      "metadata": {
        "id": "5ALtiChwxJBt",
        "colab_type": "code",
        "colab": {}
      },
      "cell_type": "code",
      "source": [
        "Baseliney = ytrain.drop(columns='id')"
      ],
      "execution_count": 0,
      "outputs": []
    },
    {
      "metadata": {
        "id": "9aImrGjrcqTs",
        "colab_type": "code",
        "outputId": "3f4300f1-695b-48a4-c455-572651dfb501",
        "colab": {
          "base_uri": "https://localhost:8080/",
          "height": 51
        }
      },
      "cell_type": "code",
      "source": [
        "Baseliney.isnull().sum()"
      ],
      "execution_count": 0,
      "outputs": [
        {
          "output_type": "execute_result",
          "data": {
            "text/plain": [
              "status_group    0\n",
              "dtype: int64"
            ]
          },
          "metadata": {
            "tags": []
          },
          "execution_count": 21
        }
      ]
    },
    {
      "metadata": {
        "id": "GO9ieGFHYHjD",
        "colab_type": "code",
        "outputId": "17c833b7-7ab0-4812-8a3a-de122db05bf4",
        "colab": {
          "base_uri": "https://localhost:8080/",
          "height": 34
        }
      },
      "cell_type": "code",
      "source": [
        "Baseliney = np.ravel(Baseliney)\n",
        "Baseliney.shape"
      ],
      "execution_count": 0,
      "outputs": [
        {
          "output_type": "execute_result",
          "data": {
            "text/plain": [
              "(59400,)"
            ]
          },
          "metadata": {
            "tags": []
          },
          "execution_count": 33
        }
      ]
    },
    {
      "metadata": {
        "id": "5VPXqls0ULfF",
        "colab_type": "text"
      },
      "cell_type": "markdown",
      "source": [
        "# **Shaping Xtest**"
      ]
    },
    {
      "metadata": {
        "colab_type": "code",
        "id": "jj_g-Ugkhx0Q",
        "colab": {}
      },
      "cell_type": "code",
      "source": [
        "test['date_recorded'] = pd.to_datetime(test['date_recorded'])\n",
        "date_recorded_test = test[['date_recorded', 'id']]\n",
        "test = test.drop(columns='date_recorded')\n",
        "\n",
        "test = test.drop(columns=['wpt_name', 'subvillage', 'scheme_name'])\n",
        "highcardinality_test = test[['id', 'funder', 'installer', 'ward', 'lga']]\n",
        "test = test.drop(columns=['funder', 'installer', 'ward', 'lga'])\n",
        "\n",
        "nans_test = test[['id', 'public_meeting', 'scheme_management', 'permit']]\n",
        "test = test.drop(columns=['public_meeting', 'scheme_management', 'permit'])"
      ],
      "execution_count": 0,
      "outputs": []
    },
    {
      "metadata": {
        "id": "AwWQIAKMpXFm",
        "colab_type": "code",
        "outputId": "92bd92b1-5b25-4c66-87b5-e01e49177a16",
        "colab": {
          "base_uri": "https://localhost:8080/",
          "height": 527
        }
      },
      "cell_type": "code",
      "source": [
        "test.isnull().sum()"
      ],
      "execution_count": 0,
      "outputs": [
        {
          "output_type": "execute_result",
          "data": {
            "text/plain": [
              "id                       0\n",
              "amount_tsh               0\n",
              "gps_height               0\n",
              "longitude                0\n",
              "latitude                 0\n",
              "num_private              0\n",
              "basin                    0\n",
              "region                   0\n",
              "region_code              0\n",
              "district_code            0\n",
              "population               0\n",
              "recorded_by              0\n",
              "construction_year        0\n",
              "extraction_type          0\n",
              "extraction_type_group    0\n",
              "extraction_type_class    0\n",
              "management               0\n",
              "management_group         0\n",
              "payment                  0\n",
              "payment_type             0\n",
              "water_quality            0\n",
              "quality_group            0\n",
              "quantity                 0\n",
              "quantity_group           0\n",
              "source                   0\n",
              "source_type              0\n",
              "source_class             0\n",
              "waterpoint_type          0\n",
              "waterpoint_type_group    0\n",
              "dtype: int64"
            ]
          },
          "metadata": {
            "tags": []
          },
          "execution_count": 26
        }
      ]
    },
    {
      "metadata": {
        "id": "YYayL763oWhe",
        "colab_type": "code",
        "outputId": "62b8b3c2-fb73-4b75-a9f1-2a7cb4362945",
        "colab": {
          "base_uri": "https://localhost:8080/",
          "height": 527
        }
      },
      "cell_type": "code",
      "source": [
        "#verify Xtrain and test have same column order\n",
        "Xtrain.isnull().sum()"
      ],
      "execution_count": 0,
      "outputs": [
        {
          "output_type": "execute_result",
          "data": {
            "text/plain": [
              "id                       0\n",
              "amount_tsh               0\n",
              "gps_height               0\n",
              "longitude                0\n",
              "latitude                 0\n",
              "num_private              0\n",
              "basin                    0\n",
              "region                   0\n",
              "region_code              0\n",
              "district_code            0\n",
              "population               0\n",
              "recorded_by              0\n",
              "construction_year        0\n",
              "extraction_type          0\n",
              "extraction_type_group    0\n",
              "extraction_type_class    0\n",
              "management               0\n",
              "management_group         0\n",
              "payment                  0\n",
              "payment_type             0\n",
              "water_quality            0\n",
              "quality_group            0\n",
              "quantity                 0\n",
              "quantity_group           0\n",
              "source                   0\n",
              "source_type              0\n",
              "source_class             0\n",
              "waterpoint_type          0\n",
              "waterpoint_type_group    0\n",
              "dtype: int64"
            ]
          },
          "metadata": {
            "tags": []
          },
          "execution_count": 20
        }
      ]
    },
    {
      "metadata": {
        "id": "wUEnK7MRmuvf",
        "colab_type": "code",
        "colab": {}
      },
      "cell_type": "code",
      "source": [
        "Baselinetest = test.drop(columns='id')"
      ],
      "execution_count": 0,
      "outputs": []
    },
    {
      "metadata": {
        "id": "ZTOyCdVnbi1x",
        "colab_type": "text"
      },
      "cell_type": "markdown",
      "source": [
        "# **Majority Class Baseline - all 'functional' - 54.30% Accuracy**"
      ]
    },
    {
      "metadata": {
        "id": "OJOqAZ5nLtxO",
        "colab_type": "code",
        "outputId": "ccac2bda-1916-488b-b13d-ae5daac75e21",
        "colab": {
          "base_uri": "https://localhost:8080/",
          "height": 34
        }
      },
      "cell_type": "code",
      "source": [
        "ypred = ['functional'] * len(Baseliney)\n",
        "accuracy_score(Baseliney, ypred)"
      ],
      "execution_count": 0,
      "outputs": [
        {
          "output_type": "execute_result",
          "data": {
            "text/plain": [
              "0.543080808080808"
            ]
          },
          "metadata": {
            "tags": []
          },
          "execution_count": 73
        }
      ]
    },
    {
      "metadata": {
        "id": "KZR6ONKtNdd3",
        "colab_type": "text"
      },
      "cell_type": "markdown",
      "source": [
        "# **First Model - Logistic with Standard Scaler - 73.52% Accuracy**"
      ]
    },
    {
      "metadata": {
        "id": "Tt4Dcns2OVLP",
        "colab_type": "code",
        "outputId": "e0e5d585-10c9-43ea-edf9-f7ba029a314c",
        "colab": {
          "base_uri": "https://localhost:8080/",
          "height": 34
        }
      },
      "cell_type": "code",
      "source": [
        "BaselineX.shape"
      ],
      "execution_count": 0,
      "outputs": [
        {
          "output_type": "execute_result",
          "data": {
            "text/plain": [
              "(59400, 28)"
            ]
          },
          "metadata": {
            "tags": []
          },
          "execution_count": 36
        }
      ]
    },
    {
      "metadata": {
        "id": "l0KAUpJGgicV",
        "colab_type": "code",
        "outputId": "ae473c87-122b-40cd-a839-5965872b86b2",
        "colab": {
          "base_uri": "https://localhost:8080/",
          "height": 34
        }
      },
      "cell_type": "code",
      "source": [
        "Baseliney.shape"
      ],
      "execution_count": 0,
      "outputs": [
        {
          "output_type": "execute_result",
          "data": {
            "text/plain": [
              "(59400,)"
            ]
          },
          "metadata": {
            "tags": []
          },
          "execution_count": 37
        }
      ]
    },
    {
      "metadata": {
        "id": "AXqQYqU7gmKz",
        "colab_type": "code",
        "outputId": "d4e84052-25cf-4684-ba91-b984090c2d64",
        "colab": {
          "base_uri": "https://localhost:8080/",
          "height": 34
        }
      },
      "cell_type": "code",
      "source": [
        "Baselinetest.shape"
      ],
      "execution_count": 0,
      "outputs": [
        {
          "output_type": "execute_result",
          "data": {
            "text/plain": [
              "(14358, 28)"
            ]
          },
          "metadata": {
            "tags": []
          },
          "execution_count": 39
        }
      ]
    },
    {
      "metadata": {
        "id": "jL5KZMQ4jzlO",
        "colab_type": "code",
        "outputId": "d1fb8662-07b7-4edd-9e98-b3a0df63be13",
        "colab": {
          "base_uri": "https://localhost:8080/",
          "height": 34
        }
      },
      "cell_type": "code",
      "source": [
        "Xtrain, Xval, ytrain, yval = train_test_split(BaselineX, Baseliney)\n",
        "Xtrain.shape, Xval.shape, ytrain.shape, yval.shape"
      ],
      "execution_count": 0,
      "outputs": [
        {
          "output_type": "execute_result",
          "data": {
            "text/plain": [
              "((44550, 28), (14850, 28), (44550,), (14850,))"
            ]
          },
          "metadata": {
            "tags": []
          },
          "execution_count": 40
        }
      ]
    },
    {
      "metadata": {
        "id": "Epsupr4Pktfx",
        "colab_type": "code",
        "outputId": "d61cca46-a647-4158-8f67-eb898e78b163",
        "colab": {
          "base_uri": "https://localhost:8080/",
          "height": 34
        }
      },
      "cell_type": "code",
      "source": [
        "warnings.filterwarnings(action='ignore', category=DataConversionWarning)\n",
        "\n",
        "pipeline = make_pipeline(\n",
        "    OneHotEncoder(use_cat_names=True),\n",
        "    StandardScaler(), \n",
        "    LogisticRegression(solver='lbfgs', max_iter=5000, multi_class='auto')\n",
        ")\n",
        "\n",
        "pipeline.fit(Xtrain, ytrain)\n",
        "\n",
        "ypred = pipeline.predict(Xval)\n",
        "accuracy_score(yval,ypred)"
      ],
      "execution_count": 0,
      "outputs": [
        {
          "output_type": "execute_result",
          "data": {
            "text/plain": [
              "0.7337373737373737"
            ]
          },
          "metadata": {
            "tags": []
          },
          "execution_count": 42
        }
      ]
    },
    {
      "metadata": {
        "id": "JTilka-Clz7t",
        "colab_type": "code",
        "outputId": "1e418027-3b8f-43d3-cc5a-c75feaf13c75",
        "colab": {
          "base_uri": "https://localhost:8080/",
          "height": 51
        }
      },
      "cell_type": "code",
      "source": [
        "print(Xval.shape)\n",
        "Baselinetest.shape"
      ],
      "execution_count": 0,
      "outputs": [
        {
          "output_type": "stream",
          "text": [
            "(14850, 28)\n"
          ],
          "name": "stdout"
        },
        {
          "output_type": "execute_result",
          "data": {
            "text/plain": [
              "(14358, 28)"
            ]
          },
          "metadata": {
            "tags": []
          },
          "execution_count": 44
        }
      ]
    },
    {
      "metadata": {
        "id": "ENSJoyTYl9bM",
        "colab_type": "code",
        "outputId": "ebde8f83-534a-4a22-a154-cd12853bba91",
        "colab": {
          "base_uri": "https://localhost:8080/",
          "height": 221
        }
      },
      "cell_type": "code",
      "source": [
        "print(pipeline.predict(Baselinetest).shape)\n",
        "submission = sample_submission.copy()\n",
        "submission['status_group'] = pipeline.predict(Baselinetest)\n",
        "submission.head()"
      ],
      "execution_count": 0,
      "outputs": [
        {
          "output_type": "stream",
          "text": [
            "(14358,)\n"
          ],
          "name": "stdout"
        },
        {
          "output_type": "execute_result",
          "data": {
            "text/html": [
              "<div>\n",
              "<style scoped>\n",
              "    .dataframe tbody tr th:only-of-type {\n",
              "        vertical-align: middle;\n",
              "    }\n",
              "\n",
              "    .dataframe tbody tr th {\n",
              "        vertical-align: top;\n",
              "    }\n",
              "\n",
              "    .dataframe thead th {\n",
              "        text-align: right;\n",
              "    }\n",
              "</style>\n",
              "<table border=\"1\" class=\"dataframe\">\n",
              "  <thead>\n",
              "    <tr style=\"text-align: right;\">\n",
              "      <th></th>\n",
              "      <th>id</th>\n",
              "      <th>status_group</th>\n",
              "    </tr>\n",
              "  </thead>\n",
              "  <tbody>\n",
              "    <tr>\n",
              "      <th>0</th>\n",
              "      <td>50785</td>\n",
              "      <td>non functional</td>\n",
              "    </tr>\n",
              "    <tr>\n",
              "      <th>1</th>\n",
              "      <td>51630</td>\n",
              "      <td>functional</td>\n",
              "    </tr>\n",
              "    <tr>\n",
              "      <th>2</th>\n",
              "      <td>17168</td>\n",
              "      <td>non functional</td>\n",
              "    </tr>\n",
              "    <tr>\n",
              "      <th>3</th>\n",
              "      <td>45559</td>\n",
              "      <td>non functional</td>\n",
              "    </tr>\n",
              "    <tr>\n",
              "      <th>4</th>\n",
              "      <td>49871</td>\n",
              "      <td>functional</td>\n",
              "    </tr>\n",
              "  </tbody>\n",
              "</table>\n",
              "</div>"
            ],
            "text/plain": [
              "      id    status_group\n",
              "0  50785  non functional\n",
              "1  51630      functional\n",
              "2  17168  non functional\n",
              "3  45559  non functional\n",
              "4  49871      functional"
            ]
          },
          "metadata": {
            "tags": []
          },
          "execution_count": 46
        }
      ]
    },
    {
      "metadata": {
        "id": "A7JOkFeqnUJq",
        "colab_type": "code",
        "colab": {}
      },
      "cell_type": "code",
      "source": [
        "submission.to_csv('tristagpaul-submission.csv', index=False)"
      ],
      "execution_count": 0,
      "outputs": []
    },
    {
      "metadata": {
        "id": "TE4rzqwgw42E",
        "colab_type": "code",
        "outputId": "67bcba8c-1f00-4bf0-ffa5-b132aac5974d",
        "colab": {
          "base_uri": "https://localhost:8080/",
          "height": 102
        }
      },
      "cell_type": "code",
      "source": [
        "!ls -lh *.csv"
      ],
      "execution_count": 0,
      "outputs": [
        {
          "output_type": "stream",
          "text": [
            "-rw-r--r-- 1 root root 237K Mar 13 14:58 sample_submission.csv\n",
            "---------- 1 root root 4.7M Mar 11 14:42 test_features.csv\n",
            "---------- 1 root root  20M Mar 11 14:42 train_features.csv\n",
            "---------- 1 root root 1.1M Mar 11 14:42 train_labels.csv\n",
            "-rw-r--r-- 1 root root 256K Mar 13 15:30 tristagpaul-submission.csv\n"
          ],
          "name": "stdout"
        }
      ]
    },
    {
      "metadata": {
        "id": "RE41z8jYxogL",
        "colab_type": "code",
        "colab": {}
      },
      "cell_type": "code",
      "source": [
        "from google.colab import files\n",
        "files.download('tristagpaul-submission.csv')"
      ],
      "execution_count": 0,
      "outputs": []
    },
    {
      "metadata": {
        "id": "XJNtDuxev7U2",
        "colab_type": "text"
      },
      "cell_type": "markdown",
      "source": [
        "# **Shaping Model 2**"
      ]
    },
    {
      "metadata": {
        "id": "uTA1hKSXwPgd",
        "colab_type": "code",
        "outputId": "0794e45b-0d72-475b-8ddc-0b6945cda05d",
        "colab": {
          "base_uri": "https://localhost:8080/",
          "height": 80
        }
      },
      "cell_type": "code",
      "source": [
        "highcardinality.head(1)"
      ],
      "execution_count": 0,
      "outputs": [
        {
          "output_type": "execute_result",
          "data": {
            "text/html": [
              "<div>\n",
              "<style scoped>\n",
              "    .dataframe tbody tr th:only-of-type {\n",
              "        vertical-align: middle;\n",
              "    }\n",
              "\n",
              "    .dataframe tbody tr th {\n",
              "        vertical-align: top;\n",
              "    }\n",
              "\n",
              "    .dataframe thead th {\n",
              "        text-align: right;\n",
              "    }\n",
              "</style>\n",
              "<table border=\"1\" class=\"dataframe\">\n",
              "  <thead>\n",
              "    <tr style=\"text-align: right;\">\n",
              "      <th></th>\n",
              "      <th>id</th>\n",
              "      <th>funder</th>\n",
              "      <th>installer</th>\n",
              "      <th>ward</th>\n",
              "      <th>lga</th>\n",
              "    </tr>\n",
              "  </thead>\n",
              "  <tbody>\n",
              "    <tr>\n",
              "      <th>0</th>\n",
              "      <td>69572</td>\n",
              "      <td>Roman</td>\n",
              "      <td>Roman</td>\n",
              "      <td>Mundindi</td>\n",
              "      <td>Ludewa</td>\n",
              "    </tr>\n",
              "  </tbody>\n",
              "</table>\n",
              "</div>"
            ],
            "text/plain": [
              "      id funder installer      ward     lga\n",
              "0  69572  Roman     Roman  Mundindi  Ludewa"
            ]
          },
          "metadata": {
            "tags": []
          },
          "execution_count": 60
        }
      ]
    },
    {
      "metadata": {
        "id": "du7fl8fMAksY",
        "colab_type": "code",
        "outputId": "ea32aac4-bb53-47d1-852f-a4508d229389",
        "colab": {
          "base_uri": "https://localhost:8080/",
          "height": 1071
        }
      },
      "cell_type": "code",
      "source": [
        "highcardinality['funder'].value_counts() #convert funders with less than 1000 projects to Other"
      ],
      "execution_count": 0,
      "outputs": [
        {
          "output_type": "execute_result",
          "data": {
            "text/plain": [
              "Government Of Tanzania            9084\n",
              "Danida                            3114\n",
              "Hesawa                            2202\n",
              "Rwssp                             1374\n",
              "World Bank                        1349\n",
              "Kkkt                              1287\n",
              "World Vision                      1246\n",
              "Unicef                            1057\n",
              "Tasaf                              877\n",
              "District Council                   843\n",
              "Dhv                                829\n",
              "Private Individual                 826\n",
              "Dwsp                               811\n",
              "0                                  777\n",
              "Norad                              765\n",
              "Germany Republi                    610\n",
              "Tcrs                               602\n",
              "Ministry Of Water                  590\n",
              "Water                              583\n",
              "Dwe                                484\n",
              "Netherlands                        470\n",
              "Hifab                              450\n",
              "Adb                                448\n",
              "Lga                                442\n",
              "Amref                              425\n",
              "Fini Water                         393\n",
              "Oxfam                              359\n",
              "Wateraid                           333\n",
              "Rc Church                          321\n",
              "Isf                                316\n",
              "                                  ... \n",
              "Cper                                 1\n",
              "Oikos E.Africa/ European Union       1\n",
              "Gerald Tuseko Gro                    1\n",
              "Mwanamisi Ally                       1\n",
              "Ngelepo Group                        1\n",
              "Cpps Mission                         1\n",
              "Piusi                                1\n",
              "Liz                                  1\n",
              "Motiba Wambura                       1\n",
              "Kizego Jumaa                         1\n",
              "Mzee Smith                           1\n",
              "Haidomu Lutheran Church              1\n",
              "Daldo                                1\n",
              "Mbwana Omari                         1\n",
              "Soko La Magomeni                     1\n",
              "Fpct Mulala                          1\n",
              "Hapa Singida                         1\n",
              "Staford Higima                       1\n",
              "Kibara Foundation                    1\n",
              "Getekwe                              1\n",
              "Tanzania /egypt                      1\n",
              "Ermua                                1\n",
              "Mzee Waziri Tajari                   1\n",
              "Gurdians                             1\n",
              "Uniseg                               1\n",
              "Samweli                              1\n",
              "Africaone Ltd                        1\n",
              "Gdp                                  1\n",
              "Nssf                                 1\n",
              "Upendo Primary School                1\n",
              "Name: funder, Length: 1897, dtype: int64"
            ]
          },
          "metadata": {
            "tags": []
          },
          "execution_count": 62
        }
      ]
    },
    {
      "metadata": {
        "id": "RScDvwdya7x7",
        "colab_type": "code",
        "colab": {}
      },
      "cell_type": "code",
      "source": [
        "funder_counts = highcardinality['funder'].value_counts()\n",
        "frequent_funders = funder_counts[funder_counts > 1000].index\n",
        "mask = highcardinality['funder'].isin(frequent_funders)\n",
        "rows_with_frequent_funders = highcardinality[mask]\n",
        "rows_without_frequent_funders = highcardinality[~mask]\n",
        "\n",
        "for value in rows_without_frequent_funders['funder'].unique():\n",
        "  rows_without_frequent_funders = rows_without_frequent_funders.replace({value:'Other'})\n",
        "\n",
        "highcardinality = rows_with_frequent_funders.append(rows_without_frequent_funders)"
      ],
      "execution_count": 0,
      "outputs": []
    },
    {
      "metadata": {
        "id": "bw2p1a5BA4WZ",
        "colab_type": "code",
        "outputId": "467422d2-152c-40f4-93b1-7c8b073f92e4",
        "colab": {
          "base_uri": "https://localhost:8080/",
          "height": 1071
        }
      },
      "cell_type": "code",
      "source": [
        "highcardinality['installer'].value_counts() #convert installers with less than 1000 projects as Other\n",
        "#combine HESAWA with Hesawa, Central Government with Government, DANID with DANIDA"
      ],
      "execution_count": 0,
      "outputs": [
        {
          "output_type": "execute_result",
          "data": {
            "text/plain": [
              "DWE                          17402\n",
              "Government                    1825\n",
              "RWE                           1206\n",
              "Commu                         1060\n",
              "DANIDA                        1050\n",
              "KKKT                           898\n",
              "Hesawa                         840\n",
              "0                              777\n",
              "TCRS                           707\n",
              "Central government             622\n",
              "CES                            610\n",
              "Community                      553\n",
              "DANID                          552\n",
              "District Council               551\n",
              "HESAWA                         539\n",
              "LGA                            408\n",
              "World vision                   408\n",
              "WEDECO                         397\n",
              "TASAF                          396\n",
              "District council               392\n",
              "Gover                          383\n",
              "AMREF                          329\n",
              "TWESA                          316\n",
              "WU                             301\n",
              "Dmdd                           287\n",
              "ACRA                           278\n",
              "World Vision                   270\n",
              "SEMA                           249\n",
              "DW                             246\n",
              "OXFAM                          234\n",
              "                             ...  \n",
              "Mombo urban  water               1\n",
              "OMARY MONA                       1\n",
              "Hesawz                           1\n",
              "Staford Higima                   1\n",
              "Busoga trust                     1\n",
              "Mwamama                          1\n",
              "Getekwe                          1\n",
              "Mosqure                          1\n",
              "Rps                              1\n",
              "Institutional                    1\n",
              "Omar Ally                        1\n",
              "Water user Group                 1\n",
              "Total Landcare                   1\n",
              "Matogoro                         1\n",
              "Hearts helping hands.Inc.        1\n",
              "Elius Chacha                     1\n",
              "Kigwa                            1\n",
              "Makala                           1\n",
              "Babu Sajini                      1\n",
              "Teresa Munyama                   1\n",
              "MASU COMPANY                     1\n",
              "Wamisionari wa Kikatoriki        1\n",
              "Orphanage                        1\n",
              "OLS                              1\n",
              "Kwasenenge Group                 1\n",
              "Kambi Migoko                     1\n",
              "Megis                            1\n",
              "Steven Nyangarika                1\n",
              "WBK                              1\n",
              "STABEX                           1\n",
              "Name: installer, Length: 2145, dtype: int64"
            ]
          },
          "metadata": {
            "tags": []
          },
          "execution_count": 63
        }
      ]
    },
    {
      "metadata": {
        "id": "2YrsOqKQFcgw",
        "colab_type": "code",
        "colab": {}
      },
      "cell_type": "code",
      "source": [
        "highcardinality['installer'] = highcardinality['installer'].replace({'HESAWA':'Hesawa',\n",
        "                               'Central Government':'Government', 'Central government': 'Government',\n",
        "                               'DANID':'DANIDA', 'District council':'District Council',\n",
        "                               'Gover':'Government', 'Commu':'Community', 'World vision': 'World Vision',\n",
        "                               'Gove':'Government', 'DW':'DWE', 'Da':'DANIDA'})"
      ],
      "execution_count": 0,
      "outputs": []
    },
    {
      "metadata": {
        "id": "kQh9Wh2nHO5b",
        "colab_type": "code",
        "colab": {}
      },
      "cell_type": "code",
      "source": [
        "installer_counts = highcardinality['installer'].value_counts()\n",
        "frequent_installers = installer_counts[installer_counts > 800].index\n",
        "mask = highcardinality['installer'].isin(frequent_installers)\n",
        "rows_with_frequent_installers = highcardinality[mask]\n",
        "rows_without_frequent_installers = highcardinality[~mask]#numbers are quite different now. I could make cutoff 800."
      ],
      "execution_count": 0,
      "outputs": []
    },
    {
      "metadata": {
        "id": "AeCT2TiwUVzK",
        "colab_type": "code",
        "outputId": "1a0d425a-79ca-4ffe-b725-28e3a184f730",
        "colab": {
          "base_uri": "https://localhost:8080/",
          "height": 34
        }
      },
      "cell_type": "code",
      "source": [
        "len(rows_without_frequent_installers)"
      ],
      "execution_count": 0,
      "outputs": [
        {
          "output_type": "execute_result",
          "data": {
            "text/plain": [
              "30725"
            ]
          },
          "metadata": {
            "tags": []
          },
          "execution_count": 125
        }
      ]
    },
    {
      "metadata": {
        "id": "TV6lic0lMtnD",
        "colab_type": "code",
        "colab": {}
      },
      "cell_type": "code",
      "source": [
        "for value in rows_without_frequent_installers['installer'].unique():\n",
        "  rows_without_frequent_installers = rows_without_frequent_installers.replace({value:'Other'})"
      ],
      "execution_count": 0,
      "outputs": []
    },
    {
      "metadata": {
        "id": "lIi1-mqvZ1JW",
        "colab_type": "code",
        "outputId": "b749a2cb-e13f-4b8c-b194-f4aecc52e625",
        "colab": {
          "base_uri": "https://localhost:8080/",
          "height": 51
        }
      },
      "cell_type": "code",
      "source": [
        "rows_without_frequent_installers['installer'].value_counts()"
      ],
      "execution_count": 0,
      "outputs": [
        {
          "output_type": "execute_result",
          "data": {
            "text/plain": [
              "Other    30725\n",
              "Name: installer, dtype: int64"
            ]
          },
          "metadata": {
            "tags": []
          },
          "execution_count": 139
        }
      ]
    },
    {
      "metadata": {
        "id": "Oi2pjxfTaCUi",
        "colab_type": "code",
        "colab": {}
      },
      "cell_type": "code",
      "source": [
        "highcardinality = rows_with_frequent_installers.append(rows_without_frequent_installers)"
      ],
      "execution_count": 0,
      "outputs": []
    },
    {
      "metadata": {
        "id": "ATTVTr-1bxMl",
        "colab_type": "code",
        "outputId": "13fa3785-77a6-4c07-ac8a-6d7f523f1e1b",
        "colab": {
          "base_uri": "https://localhost:8080/",
          "height": 34
        }
      },
      "cell_type": "code",
      "source": [
        "highcardinality.shape"
      ],
      "execution_count": 0,
      "outputs": [
        {
          "output_type": "execute_result",
          "data": {
            "text/plain": [
              "(59400, 5)"
            ]
          },
          "metadata": {
            "tags": []
          },
          "execution_count": 142
        }
      ]
    },
    {
      "metadata": {
        "id": "Og4dEEzvBScV",
        "colab_type": "code",
        "outputId": "e67ac10d-eaa6-4710-c956-470e056bb014",
        "colab": {
          "base_uri": "https://localhost:8080/",
          "height": 1071
        }
      },
      "cell_type": "code",
      "source": [
        "highcardinality['ward'].value_counts() #too dispersed to be useful"
      ],
      "execution_count": 0,
      "outputs": [
        {
          "output_type": "execute_result",
          "data": {
            "text/plain": [
              "Igosi               307\n",
              "Imalinyi            252\n",
              "Siha Kati           232\n",
              "Mdandu              231\n",
              "Nduruma             217\n",
              "Kitunda             203\n",
              "Mishamo             203\n",
              "Msindo              201\n",
              "Chalinze            196\n",
              "Maji ya Chai        190\n",
              "Usuka               187\n",
              "Ngarenanyuki        172\n",
              "Chanika             171\n",
              "Vikindu             162\n",
              "Mtwango             153\n",
              "Matola              145\n",
              "Zinga/Ikerege       141\n",
              "Maramba             139\n",
              "Wanging'ombe        139\n",
              "Itete               137\n",
              "Magomeni            135\n",
              "Kikatiti            134\n",
              "Ifakara             134\n",
              "Olkokola            133\n",
              "Maposeni            130\n",
              "Mvomero             129\n",
              "Igongolo            129\n",
              "Mlangali            125\n",
              "Nkoma               122\n",
              "Nkungulu            121\n",
              "                   ... \n",
              "Kitete                1\n",
              "Rasbura               1\n",
              "Uchindile             1\n",
              "Igogo                 1\n",
              "Matarawe              1\n",
              "Linda                 1\n",
              "Korongoni             1\n",
              "Thawi                 1\n",
              "Ukata                 1\n",
              "Nyamtinga             1\n",
              "Kihangimahuka         1\n",
              "Mitole                1\n",
              "Mkumbi                1\n",
              "Mwanga Kaskazini      1\n",
              "Kirongo               1\n",
              "Sungwisi              1\n",
              "Chinugulu             1\n",
              "Themi                 1\n",
              "Kapilula              1\n",
              "Uwanja wa Ndege       1\n",
              "Ifinga                1\n",
              "Mlimani               1\n",
              "Machinjioni           1\n",
              "Izia                  1\n",
              "Mawenzi               1\n",
              "Kinungu               1\n",
              "Simbay                1\n",
              "Nsemulwa              1\n",
              "Ikweha                1\n",
              "Burungura             1\n",
              "Name: ward, Length: 2092, dtype: int64"
            ]
          },
          "metadata": {
            "tags": []
          },
          "execution_count": 64
        }
      ]
    },
    {
      "metadata": {
        "id": "Z_8QZ-0tDCOY",
        "colab_type": "code",
        "colab": {}
      },
      "cell_type": "code",
      "source": [
        "highcardinality = highcardinality.drop(columns='ward')"
      ],
      "execution_count": 0,
      "outputs": []
    },
    {
      "metadata": {
        "id": "F8ckPu0DBseq",
        "colab_type": "code",
        "outputId": "7d07b46c-9d16-4dbf-c959-42bebe21e922",
        "colab": {
          "base_uri": "https://localhost:8080/",
          "height": 1071
        }
      },
      "cell_type": "code",
      "source": [
        "highcardinality['lga'].value_counts()"
      ],
      "execution_count": 0,
      "outputs": [
        {
          "output_type": "execute_result",
          "data": {
            "text/plain": [
              "Njombe              2503\n",
              "Arusha Rural        1252\n",
              "Moshi Rural         1251\n",
              "Bariadi             1177\n",
              "Rungwe              1106\n",
              "Kilosa              1094\n",
              "Kasulu              1047\n",
              "Mbozi               1034\n",
              "Meru                1009\n",
              "Bagamoyo             997\n",
              "Singida Rural        995\n",
              "Kilombero            959\n",
              "Same                 877\n",
              "Kibondo              874\n",
              "Kyela                859\n",
              "Kahama               836\n",
              "Magu                 824\n",
              "Kigoma Rural         824\n",
              "Maswa                809\n",
              "Karagwe              771\n",
              "Mbinga               750\n",
              "Iringa Rural         728\n",
              "Serengeti            716\n",
              "Lushoto              694\n",
              "Namtumbo             694\n",
              "Songea Rural         693\n",
              "Mpanda               679\n",
              "Mvomero              671\n",
              "Ngara                669\n",
              "Ulanga               665\n",
              "                    ... \n",
              "Newala               231\n",
              "Bahi                 224\n",
              "Kisarawe             223\n",
              "Temeke               215\n",
              "Rorya                210\n",
              "Tarime               209\n",
              "Ngorongoro           201\n",
              "Kiteto               193\n",
              "Shinyanga Urban      191\n",
              "Monduli              189\n",
              "Sumbawanga Urban     180\n",
              "Singida Urban        177\n",
              "Sikonge              170\n",
              "Kilindi              161\n",
              "Nanyumbu             158\n",
              "Tabora Urban         155\n",
              "Liwale               154\n",
              "Ilemela              142\n",
              "Mafia                132\n",
              "Mtwara Urban         124\n",
              "Tanga                 99\n",
              "Morogoro Urban        96\n",
              "Kinondoni             93\n",
              "Bukoba Urban          88\n",
              "Songea Urban          80\n",
              "Moshi Urban           79\n",
              "Kigoma Urban          71\n",
              "Arusha Urban          63\n",
              "Lindi Urban           21\n",
              "Nyamagana              1\n",
              "Name: lga, Length: 125, dtype: int64"
            ]
          },
          "metadata": {
            "tags": []
          },
          "execution_count": 65
        }
      ]
    },
    {
      "metadata": {
        "id": "hSzfJkVDf1kV",
        "colab_type": "code",
        "colab": {}
      },
      "cell_type": "code",
      "source": [
        "#lga seems very useful (compared to long and lat by themselves), so the threshold will be lower (500).\n",
        "lga_counts = highcardinality['lga'].value_counts()\n",
        "frequent_lga = lga_counts[lga_counts > 500].index\n",
        "mask = highcardinality['lga'].isin(frequent_lga)\n",
        "rows_with_frequent_lga = highcardinality[mask]\n",
        "rows_without_frequent_lga = highcardinality[~mask]\n",
        "\n",
        "for value in rows_without_frequent_lga['lga'].unique():\n",
        "  rows_without_frequent_lga = rows_without_frequent_lga.replace({value:'Other'})\n",
        "\n",
        "highcardinality = rows_with_frequent_lga.append(rows_without_frequent_lga)"
      ],
      "execution_count": 0,
      "outputs": []
    },
    {
      "metadata": {
        "id": "ALfvZ-RRfl4B",
        "colab_type": "code",
        "outputId": "b6f8aa09-2d9f-4640-d1c6-615cc0f65554",
        "colab": {
          "base_uri": "https://localhost:8080/",
          "height": 34
        }
      },
      "cell_type": "code",
      "source": [
        "highcardinality.shape"
      ],
      "execution_count": 0,
      "outputs": [
        {
          "output_type": "execute_result",
          "data": {
            "text/plain": [
              "(59400, 4)"
            ]
          },
          "metadata": {
            "tags": []
          },
          "execution_count": 151
        }
      ]
    },
    {
      "metadata": {
        "id": "RcKPNbMXiRsX",
        "colab_type": "code",
        "outputId": "73605633-a95c-45b0-882e-daa8145d154c",
        "colab": {
          "base_uri": "https://localhost:8080/",
          "height": 359
        }
      },
      "cell_type": "code",
      "source": [
        "highcardinality.head(10)"
      ],
      "execution_count": 0,
      "outputs": [
        {
          "output_type": "execute_result",
          "data": {
            "text/html": [
              "<div>\n",
              "<style scoped>\n",
              "    .dataframe tbody tr th:only-of-type {\n",
              "        vertical-align: middle;\n",
              "    }\n",
              "\n",
              "    .dataframe tbody tr th {\n",
              "        vertical-align: top;\n",
              "    }\n",
              "\n",
              "    .dataframe thead th {\n",
              "        text-align: right;\n",
              "    }\n",
              "</style>\n",
              "<table border=\"1\" class=\"dataframe\">\n",
              "  <thead>\n",
              "    <tr style=\"text-align: right;\">\n",
              "      <th></th>\n",
              "      <th>id</th>\n",
              "      <th>funder</th>\n",
              "      <th>installer</th>\n",
              "      <th>lga</th>\n",
              "    </tr>\n",
              "  </thead>\n",
              "  <tbody>\n",
              "    <tr>\n",
              "      <th>7</th>\n",
              "      <td>54551</td>\n",
              "      <td>Rwssp</td>\n",
              "      <td>DWE</td>\n",
              "      <td>Kahama</td>\n",
              "    </tr>\n",
              "    <tr>\n",
              "      <th>11</th>\n",
              "      <td>50409</td>\n",
              "      <td>Danida</td>\n",
              "      <td>DANIDA</td>\n",
              "      <td>Namtumbo</td>\n",
              "    </tr>\n",
              "    <tr>\n",
              "      <th>16</th>\n",
              "      <td>48451</td>\n",
              "      <td>Unicef</td>\n",
              "      <td>DWE</td>\n",
              "      <td>Njombe</td>\n",
              "    </tr>\n",
              "    <tr>\n",
              "      <th>17</th>\n",
              "      <td>58155</td>\n",
              "      <td>Unicef</td>\n",
              "      <td>DWE</td>\n",
              "      <td>Njombe</td>\n",
              "    </tr>\n",
              "    <tr>\n",
              "      <th>22</th>\n",
              "      <td>58500</td>\n",
              "      <td>Unicef</td>\n",
              "      <td>DWE</td>\n",
              "      <td>Njombe</td>\n",
              "    </tr>\n",
              "    <tr>\n",
              "      <th>25</th>\n",
              "      <td>22308</td>\n",
              "      <td>Government Of Tanzania</td>\n",
              "      <td>DWE</td>\n",
              "      <td>Moshi Rural</td>\n",
              "    </tr>\n",
              "    <tr>\n",
              "      <th>27</th>\n",
              "      <td>20145</td>\n",
              "      <td>Hesawa</td>\n",
              "      <td>DWE</td>\n",
              "      <td>Karagwe</td>\n",
              "    </tr>\n",
              "    <tr>\n",
              "      <th>28</th>\n",
              "      <td>19685</td>\n",
              "      <td>Government Of Tanzania</td>\n",
              "      <td>District Council</td>\n",
              "      <td>Rombo</td>\n",
              "    </tr>\n",
              "    <tr>\n",
              "      <th>32</th>\n",
              "      <td>57238</td>\n",
              "      <td>Government Of Tanzania</td>\n",
              "      <td>DWE</td>\n",
              "      <td>Moshi Rural</td>\n",
              "    </tr>\n",
              "    <tr>\n",
              "      <th>36</th>\n",
              "      <td>67359</td>\n",
              "      <td>Danida</td>\n",
              "      <td>Government</td>\n",
              "      <td>Kyela</td>\n",
              "    </tr>\n",
              "  </tbody>\n",
              "</table>\n",
              "</div>"
            ],
            "text/plain": [
              "       id                  funder         installer          lga\n",
              "7   54551                   Rwssp               DWE       Kahama\n",
              "11  50409                  Danida            DANIDA     Namtumbo\n",
              "16  48451                  Unicef               DWE       Njombe\n",
              "17  58155                  Unicef               DWE       Njombe\n",
              "22  58500                  Unicef               DWE       Njombe\n",
              "25  22308  Government Of Tanzania               DWE  Moshi Rural\n",
              "27  20145                  Hesawa               DWE      Karagwe\n",
              "28  19685  Government Of Tanzania  District Council        Rombo\n",
              "32  57238  Government Of Tanzania               DWE  Moshi Rural\n",
              "36  67359                  Danida        Government        Kyela"
            ]
          },
          "metadata": {
            "tags": []
          },
          "execution_count": 152
        }
      ]
    },
    {
      "metadata": {
        "id": "e_rsM4RjizTC",
        "colab_type": "code",
        "outputId": "f92411a0-ad4b-449e-86da-8484c608630e",
        "colab": {
          "base_uri": "https://localhost:8080/",
          "height": 102
        }
      },
      "cell_type": "code",
      "source": [
        "highcardinality.isnull().sum()"
      ],
      "execution_count": 0,
      "outputs": [
        {
          "output_type": "execute_result",
          "data": {
            "text/plain": [
              "id           0\n",
              "funder       0\n",
              "installer    0\n",
              "lga          0\n",
              "dtype: int64"
            ]
          },
          "metadata": {
            "tags": []
          },
          "execution_count": 153
        }
      ]
    },
    {
      "metadata": {
        "id": "RgunUGpW_bdi",
        "colab_type": "code",
        "outputId": "dfb0567e-82cb-4814-d9c5-c278fa64f1c7",
        "colab": {
          "base_uri": "https://localhost:8080/",
          "height": 80
        }
      },
      "cell_type": "code",
      "source": [
        "nans.head(1)"
      ],
      "execution_count": 0,
      "outputs": [
        {
          "output_type": "execute_result",
          "data": {
            "text/html": [
              "<div>\n",
              "<style scoped>\n",
              "    .dataframe tbody tr th:only-of-type {\n",
              "        vertical-align: middle;\n",
              "    }\n",
              "\n",
              "    .dataframe tbody tr th {\n",
              "        vertical-align: top;\n",
              "    }\n",
              "\n",
              "    .dataframe thead th {\n",
              "        text-align: right;\n",
              "    }\n",
              "</style>\n",
              "<table border=\"1\" class=\"dataframe\">\n",
              "  <thead>\n",
              "    <tr style=\"text-align: right;\">\n",
              "      <th></th>\n",
              "      <th>id</th>\n",
              "      <th>public_meeting</th>\n",
              "      <th>scheme_management</th>\n",
              "      <th>permit</th>\n",
              "    </tr>\n",
              "  </thead>\n",
              "  <tbody>\n",
              "    <tr>\n",
              "      <th>0</th>\n",
              "      <td>69572</td>\n",
              "      <td>True</td>\n",
              "      <td>VWC</td>\n",
              "      <td>False</td>\n",
              "    </tr>\n",
              "  </tbody>\n",
              "</table>\n",
              "</div>"
            ],
            "text/plain": [
              "      id public_meeting scheme_management permit\n",
              "0  69572           True               VWC  False"
            ]
          },
          "metadata": {
            "tags": []
          },
          "execution_count": 163
        }
      ]
    },
    {
      "metadata": {
        "id": "o5-6qHRVqBaq",
        "colab_type": "code",
        "outputId": "43508834-cc22-48ea-8326-a4e6f81ffa90",
        "colab": {
          "base_uri": "https://localhost:8080/",
          "height": 102
        }
      },
      "cell_type": "code",
      "source": [
        "nans.isnull().sum()"
      ],
      "execution_count": 0,
      "outputs": [
        {
          "output_type": "execute_result",
          "data": {
            "text/plain": [
              "id                      0\n",
              "public_meeting       3334\n",
              "scheme_management    3877\n",
              "permit               3056\n",
              "dtype: int64"
            ]
          },
          "metadata": {
            "tags": []
          },
          "execution_count": 165
        }
      ]
    },
    {
      "metadata": {
        "id": "ndbyvoA6ALHL",
        "colab_type": "code",
        "outputId": "4b06d9ec-b25b-4061-9ba4-f76d83f3a813",
        "colab": {
          "base_uri": "https://localhost:8080/",
          "height": 68
        }
      },
      "cell_type": "code",
      "source": [
        "nans['public_meeting'].value_counts() #both public meeting and permit are True/False."
      ],
      "execution_count": 0,
      "outputs": [
        {
          "output_type": "execute_result",
          "data": {
            "text/plain": [
              "True     51011\n",
              "False     5055\n",
              "Name: public_meeting, dtype: int64"
            ]
          },
          "metadata": {
            "tags": []
          },
          "execution_count": 164
        }
      ]
    },
    {
      "metadata": {
        "id": "ekffRH-1Cwu_",
        "colab_type": "code",
        "colab": {}
      },
      "cell_type": "code",
      "source": [
        "nans = nans.replace({np.nan:0, True:1, False:0})"
      ],
      "execution_count": 0,
      "outputs": []
    },
    {
      "metadata": {
        "id": "IKFWkw2gqT27",
        "colab_type": "code",
        "outputId": "18993c58-a0c5-4715-c063-f29c68d8009a",
        "colab": {
          "base_uri": "https://localhost:8080/",
          "height": 68
        }
      },
      "cell_type": "code",
      "source": [
        "nans['public_meeting'].value_counts()"
      ],
      "execution_count": 0,
      "outputs": [
        {
          "output_type": "execute_result",
          "data": {
            "text/plain": [
              "1    51011\n",
              "0     8389\n",
              "Name: public_meeting, dtype: int64"
            ]
          },
          "metadata": {
            "tags": []
          },
          "execution_count": 168
        }
      ]
    },
    {
      "metadata": {
        "id": "0qjcBDJSqYqL",
        "colab_type": "code",
        "outputId": "6960157f-4f13-41b9-f91a-fe93f4c38b45",
        "colab": {
          "base_uri": "https://localhost:8080/",
          "height": 68
        }
      },
      "cell_type": "code",
      "source": [
        "nans['permit'].value_counts()"
      ],
      "execution_count": 0,
      "outputs": [
        {
          "output_type": "execute_result",
          "data": {
            "text/plain": [
              "1    38852\n",
              "0    20548\n",
              "Name: permit, dtype: int64"
            ]
          },
          "metadata": {
            "tags": []
          },
          "execution_count": 169
        }
      ]
    },
    {
      "metadata": {
        "id": "nrQdplyhCG1Y",
        "colab_type": "code",
        "outputId": "443c58ac-4fbc-4fd3-a0ba-26c5f94b7648",
        "colab": {
          "base_uri": "https://localhost:8080/",
          "height": 255
        }
      },
      "cell_type": "code",
      "source": [
        "nans['scheme_management'].value_counts() #put NaNs in None"
      ],
      "execution_count": 0,
      "outputs": [
        {
          "output_type": "execute_result",
          "data": {
            "text/plain": [
              "VWC                 36793\n",
              "WUG                  5206\n",
              "0                    3877\n",
              "Water authority      3153\n",
              "WUA                  2883\n",
              "Water Board          2748\n",
              "Parastatal           1680\n",
              "Private operator     1063\n",
              "Company              1061\n",
              "Other                 766\n",
              "SWC                    97\n",
              "Trust                  72\n",
              "None                    1\n",
              "Name: scheme_management, dtype: int64"
            ]
          },
          "metadata": {
            "tags": []
          },
          "execution_count": 170
        }
      ]
    },
    {
      "metadata": {
        "id": "bDQ_sNw7rjMG",
        "colab_type": "code",
        "colab": {}
      },
      "cell_type": "code",
      "source": [
        "nans['scheme_management'] = nans['scheme_management'].replace({0:None})"
      ],
      "execution_count": 0,
      "outputs": []
    },
    {
      "metadata": {
        "id": "3B_z6KQkr108",
        "colab_type": "code",
        "colab": {}
      },
      "cell_type": "code",
      "source": [
        "nans['scheme_management'] = nans['scheme_management'].replace({None:'None'})"
      ],
      "execution_count": 0,
      "outputs": []
    },
    {
      "metadata": {
        "id": "rnlD-ydWrjs8",
        "colab_type": "code",
        "outputId": "ea82d50d-fc00-4647-e0b2-362a0bf52bb0",
        "colab": {
          "base_uri": "https://localhost:8080/",
          "height": 238
        }
      },
      "cell_type": "code",
      "source": [
        "nans['scheme_management'].value_counts()"
      ],
      "execution_count": 0,
      "outputs": [
        {
          "output_type": "execute_result",
          "data": {
            "text/plain": [
              "VWC                 36793\n",
              "WUG                  5206\n",
              "None                 3878\n",
              "Water authority      3153\n",
              "WUA                  2883\n",
              "Water Board          2748\n",
              "Parastatal           1680\n",
              "Private operator     1063\n",
              "Company              1061\n",
              "Other                 766\n",
              "SWC                    97\n",
              "Trust                  72\n",
              "Name: scheme_management, dtype: int64"
            ]
          },
          "metadata": {
            "tags": []
          },
          "execution_count": 175
        }
      ]
    },
    {
      "metadata": {
        "id": "-2tWXlmmrwZU",
        "colab_type": "code",
        "outputId": "f53f1c59-a82d-4ba3-9111-2b78919b49e6",
        "colab": {
          "base_uri": "https://localhost:8080/",
          "height": 102
        }
      },
      "cell_type": "code",
      "source": [
        "nans.isnull().sum()"
      ],
      "execution_count": 0,
      "outputs": [
        {
          "output_type": "execute_result",
          "data": {
            "text/plain": [
              "id                   0\n",
              "public_meeting       0\n",
              "scheme_management    0\n",
              "permit               0\n",
              "dtype: int64"
            ]
          },
          "metadata": {
            "tags": []
          },
          "execution_count": 176
        }
      ]
    },
    {
      "metadata": {
        "id": "JGLrXdpasAe4",
        "colab_type": "code",
        "outputId": "77d64660-ee5b-493a-eb54-e13e8e38f0bd",
        "colab": {
          "base_uri": "https://localhost:8080/",
          "height": 80
        }
      },
      "cell_type": "code",
      "source": [
        "date_recorded.head(1)"
      ],
      "execution_count": 0,
      "outputs": [
        {
          "output_type": "execute_result",
          "data": {
            "text/html": [
              "<div>\n",
              "<style scoped>\n",
              "    .dataframe tbody tr th:only-of-type {\n",
              "        vertical-align: middle;\n",
              "    }\n",
              "\n",
              "    .dataframe tbody tr th {\n",
              "        vertical-align: top;\n",
              "    }\n",
              "\n",
              "    .dataframe thead th {\n",
              "        text-align: right;\n",
              "    }\n",
              "</style>\n",
              "<table border=\"1\" class=\"dataframe\">\n",
              "  <thead>\n",
              "    <tr style=\"text-align: right;\">\n",
              "      <th></th>\n",
              "      <th>date_recorded</th>\n",
              "      <th>id</th>\n",
              "    </tr>\n",
              "  </thead>\n",
              "  <tbody>\n",
              "    <tr>\n",
              "      <th>0</th>\n",
              "      <td>2011-03-14</td>\n",
              "      <td>69572</td>\n",
              "    </tr>\n",
              "  </tbody>\n",
              "</table>\n",
              "</div>"
            ],
            "text/plain": [
              "  date_recorded     id\n",
              "0    2011-03-14  69572"
            ]
          },
          "metadata": {
            "tags": []
          },
          "execution_count": 177
        }
      ]
    },
    {
      "metadata": {
        "id": "oXtyCEC7tIDr",
        "colab_type": "code",
        "colab": {}
      },
      "cell_type": "code",
      "source": [
        "date_recorded['year'] = date_recorded['date_recorded'].dt.year"
      ],
      "execution_count": 0,
      "outputs": []
    },
    {
      "metadata": {
        "id": "KIUalCnOu8vG",
        "colab_type": "code",
        "outputId": "f4db0105-16fb-4aef-e9af-e3c5d31d148a",
        "colab": {
          "base_uri": "https://localhost:8080/",
          "height": 80
        }
      },
      "cell_type": "code",
      "source": [
        "date_recorded.head(1)"
      ],
      "execution_count": 0,
      "outputs": [
        {
          "output_type": "execute_result",
          "data": {
            "text/html": [
              "<div>\n",
              "<style scoped>\n",
              "    .dataframe tbody tr th:only-of-type {\n",
              "        vertical-align: middle;\n",
              "    }\n",
              "\n",
              "    .dataframe tbody tr th {\n",
              "        vertical-align: top;\n",
              "    }\n",
              "\n",
              "    .dataframe thead th {\n",
              "        text-align: right;\n",
              "    }\n",
              "</style>\n",
              "<table border=\"1\" class=\"dataframe\">\n",
              "  <thead>\n",
              "    <tr style=\"text-align: right;\">\n",
              "      <th></th>\n",
              "      <th>date_recorded</th>\n",
              "      <th>id</th>\n",
              "      <th>year</th>\n",
              "    </tr>\n",
              "  </thead>\n",
              "  <tbody>\n",
              "    <tr>\n",
              "      <th>0</th>\n",
              "      <td>2011-03-14</td>\n",
              "      <td>69572</td>\n",
              "      <td>2011</td>\n",
              "    </tr>\n",
              "  </tbody>\n",
              "</table>\n",
              "</div>"
            ],
            "text/plain": [
              "  date_recorded     id  year\n",
              "0    2011-03-14  69572  2011"
            ]
          },
          "metadata": {
            "tags": []
          },
          "execution_count": 180
        }
      ]
    },
    {
      "metadata": {
        "id": "72vSb02PvHmB",
        "colab_type": "code",
        "outputId": "823fbd55-cafe-4b51-87b7-d214eb4556fb",
        "colab": {
          "base_uri": "https://localhost:8080/",
          "height": 153
        }
      },
      "cell_type": "code",
      "source": [
        "date_recorded.info()"
      ],
      "execution_count": 0,
      "outputs": [
        {
          "output_type": "stream",
          "text": [
            "<class 'pandas.core.frame.DataFrame'>\n",
            "RangeIndex: 59400 entries, 0 to 59399\n",
            "Data columns (total 3 columns):\n",
            "date_recorded    59400 non-null datetime64[ns]\n",
            "id               59400 non-null int64\n",
            "year             59400 non-null int64\n",
            "dtypes: datetime64[ns](1), int64(2)\n",
            "memory usage: 1.4 MB\n"
          ],
          "name": "stdout"
        }
      ]
    },
    {
      "metadata": {
        "id": "NCr-lpTJvZXj",
        "colab_type": "code",
        "colab": {}
      },
      "cell_type": "code",
      "source": [
        ""
      ],
      "execution_count": 0,
      "outputs": []
    },
    {
      "metadata": {
        "id": "F0CIXGgM3slY",
        "colab_type": "text"
      },
      "cell_type": "markdown",
      "source": [
        "# **Second Model - Logistic with Standard Scaler - 73.75% Validation Accuracy**"
      ]
    },
    {
      "metadata": {
        "id": "6nkL07CD3y_O",
        "colab_type": "code",
        "outputId": "a534046a-4f7e-41f7-c695-e76b3a146477",
        "colab": {
          "base_uri": "https://localhost:8080/",
          "height": 34
        }
      },
      "cell_type": "code",
      "source": [
        "Xtrain, Xval, ytrain, yval = train_test_split(train, Baseliney)\n",
        "Xtrain.shape, Xval.shape, ytrain.shape, yval.shape"
      ],
      "execution_count": 0,
      "outputs": [
        {
          "output_type": "execute_result",
          "data": {
            "text/plain": [
              "((44550, 26), (14850, 26), (44550,), (14850,))"
            ]
          },
          "metadata": {
            "tags": []
          },
          "execution_count": 43
        }
      ]
    },
    {
      "metadata": {
        "id": "I_rqTwTm4JUU",
        "colab_type": "code",
        "outputId": "bf4800e0-ec86-47b5-a409-9b179efff272",
        "colab": {
          "base_uri": "https://localhost:8080/",
          "height": 34
        }
      },
      "cell_type": "code",
      "source": [
        "warnings.filterwarnings(action='ignore', category=DataConversionWarning)\n",
        "\n",
        "pipeline = make_pipeline(\n",
        "    OneHotEncoder(use_cat_names=True),\n",
        "    StandardScaler(), \n",
        "    LogisticRegression(solver='lbfgs', max_iter=5000, multi_class='auto')\n",
        ")\n",
        "\n",
        "pipeline.fit(Xtrain, ytrain)\n",
        "\n",
        "ypred = pipeline.predict(Xval)\n",
        "accuracy_score(yval,ypred)"
      ],
      "execution_count": 0,
      "outputs": [
        {
          "output_type": "execute_result",
          "data": {
            "text/plain": [
              "0.7408754208754209"
            ]
          },
          "metadata": {
            "tags": []
          },
          "execution_count": 44
        }
      ]
    },
    {
      "metadata": {
        "id": "FAntYprbsEFB",
        "colab_type": "code",
        "outputId": "c8a0540c-8123-4f1d-e556-bd61479b4787",
        "colab": {
          "base_uri": "https://localhost:8080/",
          "height": 221
        }
      },
      "cell_type": "code",
      "source": [
        "print(pipeline.predict(test).shape)\n",
        "submission = sample_submission.copy()\n",
        "submission['status_group'] = pipeline.predict(test)\n",
        "submission.head()"
      ],
      "execution_count": 0,
      "outputs": [
        {
          "output_type": "stream",
          "text": [
            "(14358,)\n"
          ],
          "name": "stdout"
        },
        {
          "output_type": "execute_result",
          "data": {
            "text/html": [
              "<div>\n",
              "<style scoped>\n",
              "    .dataframe tbody tr th:only-of-type {\n",
              "        vertical-align: middle;\n",
              "    }\n",
              "\n",
              "    .dataframe tbody tr th {\n",
              "        vertical-align: top;\n",
              "    }\n",
              "\n",
              "    .dataframe thead th {\n",
              "        text-align: right;\n",
              "    }\n",
              "</style>\n",
              "<table border=\"1\" class=\"dataframe\">\n",
              "  <thead>\n",
              "    <tr style=\"text-align: right;\">\n",
              "      <th></th>\n",
              "      <th>id</th>\n",
              "      <th>status_group</th>\n",
              "    </tr>\n",
              "  </thead>\n",
              "  <tbody>\n",
              "    <tr>\n",
              "      <th>0</th>\n",
              "      <td>50785</td>\n",
              "      <td>non functional</td>\n",
              "    </tr>\n",
              "    <tr>\n",
              "      <th>1</th>\n",
              "      <td>51630</td>\n",
              "      <td>functional</td>\n",
              "    </tr>\n",
              "    <tr>\n",
              "      <th>2</th>\n",
              "      <td>17168</td>\n",
              "      <td>non functional</td>\n",
              "    </tr>\n",
              "    <tr>\n",
              "      <th>3</th>\n",
              "      <td>45559</td>\n",
              "      <td>non functional</td>\n",
              "    </tr>\n",
              "    <tr>\n",
              "      <th>4</th>\n",
              "      <td>49871</td>\n",
              "      <td>functional</td>\n",
              "    </tr>\n",
              "  </tbody>\n",
              "</table>\n",
              "</div>"
            ],
            "text/plain": [
              "      id    status_group\n",
              "0  50785  non functional\n",
              "1  51630      functional\n",
              "2  17168  non functional\n",
              "3  45559  non functional\n",
              "4  49871      functional"
            ]
          },
          "metadata": {
            "tags": []
          },
          "execution_count": 74
        }
      ]
    },
    {
      "metadata": {
        "id": "CaIF3m4zscpy",
        "colab_type": "code",
        "colab": {}
      },
      "cell_type": "code",
      "source": [
        "submission.to_csv('tristagpaul-submission2.csv', index=False)\n",
        "from google.colab import files\n",
        "files.download('tristagpaul-submission2.csv')"
      ],
      "execution_count": 0,
      "outputs": []
    },
    {
      "metadata": {
        "id": "kSJD8KUdspPF",
        "colab_type": "text"
      },
      "cell_type": "markdown",
      "source": [
        "# **Model 3 - Logistic - Choosing features from 2 - 67.17%**"
      ]
    },
    {
      "metadata": {
        "id": "KeR-iNDJ8g4v",
        "colab_type": "code",
        "outputId": "438d9d20-d762-451f-9ecd-e38ed5a78a8f",
        "colab": {
          "base_uri": "https://localhost:8080/",
          "height": 1071
        }
      },
      "cell_type": "code",
      "source": [
        "model = pipeline.named_steps['logisticregression']\n",
        "feature_names = pipeline.named_steps['onehotencoder'].transform(Xtrain).columns\n",
        "coefficients = pd.Series(model.coef_[0], feature_names)\n",
        "coefficients.sort_values(ascending=False)"
      ],
      "execution_count": 0,
      "outputs": [
        {
          "output_type": "execute_result",
          "data": {
            "text/plain": [
              "quantity_enough                             0.208738\n",
              "basin_Lake Nyasa                            0.203569\n",
              "extraction_type_class_handpump              0.194238\n",
              "payment_type_per bucket                     0.132916\n",
              "waterpoint_type_group_cattle trough         0.109420\n",
              "amount_tsh                                  0.104037\n",
              "lga_Njombe                                  0.097971\n",
              "scheme_management_Water Board               0.094598\n",
              "lga_Kasulu                                  0.089682\n",
              "management_private operator                 0.085534\n",
              "construction_year                           0.080682\n",
              "permit                                      0.078130\n",
              "source_rainwater harvesting                 0.070422\n",
              "installer_Hesawa                            0.064037\n",
              "waterpoint_type_group_improved spring       0.062217\n",
              "management_wug                              0.061370\n",
              "basin_Pangani                               0.059814\n",
              "waterpoint_type_group_communal standpipe    0.059196\n",
              "public_meeting                              0.058911\n",
              "gps_height                                  0.056588\n",
              "lga_Arusha Rural                            0.056248\n",
              "quantity_unknown                            0.055601\n",
              "scheme_management_Other                     0.050729\n",
              "management_group_commercial                 0.050652\n",
              "installer_DANIDA                            0.049374\n",
              "payment_type_annually                       0.049197\n",
              "quantity_insufficient                       0.048956\n",
              "quality_group_milky                         0.046556\n",
              "water_quality_milky                         0.046556\n",
              "source_other                                0.043205\n",
              "                                              ...   \n",
              "scheme_management_Company                  -0.028651\n",
              "source_machine dbh                         -0.028730\n",
              "management_water board                     -0.029176\n",
              "basin_Lake Victoria                        -0.033910\n",
              "extraction_type_class_submersible          -0.034006\n",
              "scheme_management_WUG                      -0.034830\n",
              "lga_Mbozi                                  -0.036045\n",
              "management_company                         -0.043379\n",
              "installer_RWE                              -0.044526\n",
              "management_group_user-group                -0.044800\n",
              "source_river                               -0.046094\n",
              "lga_Kilosa                                 -0.050205\n",
              "management_vwc                             -0.050482\n",
              "basin_Ruvuma / Southern Coast              -0.062156\n",
              "year                                       -0.063526\n",
              "extraction_type_class_motorpump            -0.064052\n",
              "extraction_type_class_gravity              -0.066301\n",
              "lga_Bariadi                                -0.067616\n",
              "region_code                                -0.074662\n",
              "installer_Government                       -0.083017\n",
              "years_from_installation                    -0.085642\n",
              "funder_Hesawa                              -0.085980\n",
              "basin_Lake Tanganyika                      -0.087372\n",
              "extraction_type_class_other                -0.094313\n",
              "basin_Lake Rukwa                           -0.101417\n",
              "lga_Rungwe                                 -0.106000\n",
              "payment_type_never pay                     -0.108698\n",
              "scheme_management_Water authority          -0.113456\n",
              "waterpoint_type_group_other                -0.183227\n",
              "quantity_dry                               -0.462685\n",
              "Length: 141, dtype: float64"
            ]
          },
          "metadata": {
            "tags": []
          },
          "execution_count": 45
        }
      ]
    },
    {
      "metadata": {
        "id": "HPfy9NcElgjl",
        "colab_type": "code",
        "outputId": "62365ca8-c57e-4877-ad6e-e902e7066a0e",
        "colab": {
          "base_uri": "https://localhost:8080/",
          "height": 204
        }
      },
      "cell_type": "code",
      "source": [
        "coefficientsdf = pd.DataFrame(coefficients)\n",
        "coefficientsdf = coefficientsdf.reset_index(drop=False)\n",
        "coefficientsdf = coefficientsdf.rename(columns={0:'values'})\n",
        "coefficientsdf.head()"
      ],
      "execution_count": 0,
      "outputs": [
        {
          "output_type": "execute_result",
          "data": {
            "text/html": [
              "<div>\n",
              "<style scoped>\n",
              "    .dataframe tbody tr th:only-of-type {\n",
              "        vertical-align: middle;\n",
              "    }\n",
              "\n",
              "    .dataframe tbody tr th {\n",
              "        vertical-align: top;\n",
              "    }\n",
              "\n",
              "    .dataframe thead th {\n",
              "        text-align: right;\n",
              "    }\n",
              "</style>\n",
              "<table border=\"1\" class=\"dataframe\">\n",
              "  <thead>\n",
              "    <tr style=\"text-align: right;\">\n",
              "      <th></th>\n",
              "      <th>index</th>\n",
              "      <th>values</th>\n",
              "    </tr>\n",
              "  </thead>\n",
              "  <tbody>\n",
              "    <tr>\n",
              "      <th>0</th>\n",
              "      <td>basin_Lake Tanganyika</td>\n",
              "      <td>-0.087372</td>\n",
              "    </tr>\n",
              "    <tr>\n",
              "      <th>1</th>\n",
              "      <td>basin_Internal</td>\n",
              "      <td>0.002628</td>\n",
              "    </tr>\n",
              "    <tr>\n",
              "      <th>2</th>\n",
              "      <td>basin_Lake Victoria</td>\n",
              "      <td>-0.033910</td>\n",
              "    </tr>\n",
              "    <tr>\n",
              "      <th>3</th>\n",
              "      <td>basin_Ruvuma / Southern Coast</td>\n",
              "      <td>-0.062156</td>\n",
              "    </tr>\n",
              "    <tr>\n",
              "      <th>4</th>\n",
              "      <td>basin_Pangani</td>\n",
              "      <td>0.059814</td>\n",
              "    </tr>\n",
              "  </tbody>\n",
              "</table>\n",
              "</div>"
            ],
            "text/plain": [
              "                           index    values\n",
              "0          basin_Lake Tanganyika -0.087372\n",
              "1                 basin_Internal  0.002628\n",
              "2            basin_Lake Victoria -0.033910\n",
              "3  basin_Ruvuma / Southern Coast -0.062156\n",
              "4                  basin_Pangani  0.059814"
            ]
          },
          "metadata": {
            "tags": []
          },
          "execution_count": 58
        }
      ]
    },
    {
      "metadata": {
        "id": "DZUK32PRn1mz",
        "colab_type": "code",
        "outputId": "35e58b75-04c6-4490-d11f-46531af2100d",
        "colab": {
          "base_uri": "https://localhost:8080/",
          "height": 80
        }
      },
      "cell_type": "code",
      "source": [
        "coefficientsdf[coefficientsdf['index'].str.contains(colname)]"
      ],
      "execution_count": 0,
      "outputs": [
        {
          "output_type": "execute_result",
          "data": {
            "text/html": [
              "<div>\n",
              "<style scoped>\n",
              "    .dataframe tbody tr th:only-of-type {\n",
              "        vertical-align: middle;\n",
              "    }\n",
              "\n",
              "    .dataframe tbody tr th {\n",
              "        vertical-align: top;\n",
              "    }\n",
              "\n",
              "    .dataframe thead th {\n",
              "        text-align: right;\n",
              "    }\n",
              "</style>\n",
              "<table border=\"1\" class=\"dataframe\">\n",
              "  <thead>\n",
              "    <tr style=\"text-align: right;\">\n",
              "      <th></th>\n",
              "      <th>index</th>\n",
              "      <th>values</th>\n",
              "    </tr>\n",
              "  </thead>\n",
              "  <tbody>\n",
              "    <tr>\n",
              "      <th>130</th>\n",
              "      <td>amount_tsh</td>\n",
              "      <td>0.104037</td>\n",
              "    </tr>\n",
              "  </tbody>\n",
              "</table>\n",
              "</div>"
            ],
            "text/plain": [
              "          index    values\n",
              "130  amount_tsh  0.104037"
            ]
          },
          "metadata": {
            "tags": []
          },
          "execution_count": 59
        }
      ]
    },
    {
      "metadata": {
        "id": "LgWDebcVkNig",
        "colab_type": "code",
        "outputId": "4b6ae7da-4dc3-433c-e3c9-f36d574cce60",
        "colab": {
          "base_uri": "https://localhost:8080/",
          "height": 153
        }
      },
      "cell_type": "code",
      "source": [
        "train.columns"
      ],
      "execution_count": 0,
      "outputs": [
        {
          "output_type": "execute_result",
          "data": {
            "text/plain": [
              "Index(['amount_tsh', 'gps_height', 'num_private', 'basin', 'region_code',\n",
              "       'district_code', 'population', 'construction_year',\n",
              "       'extraction_type_class', 'management', 'management_group',\n",
              "       'payment_type', 'water_quality', 'quality_group', 'quantity', 'source',\n",
              "       'source_class', 'waterpoint_type_group', 'funder', 'installer', 'lga',\n",
              "       'public_meeting', 'scheme_management', 'permit', 'year',\n",
              "       'years_from_installation'],\n",
              "      dtype='object')"
            ]
          },
          "metadata": {
            "tags": []
          },
          "execution_count": 47
        }
      ]
    },
    {
      "metadata": {
        "id": "6SndT6kLozbM",
        "colab_type": "code",
        "colab": {}
      },
      "cell_type": "code",
      "source": [
        "reorder = ['amount_tsh', 'gps_height', 'num_private', 'basin', 'region_code',\n",
        "           'district_code', 'population', 'construction_year', 'extraction_type_class',\n",
        "           'management_group', 'management', 'payment_type', 'water_quality', 'quality_group', 'quantity',\n",
        "           'source_class', 'source', 'waterpoint_type_group', 'funder', 'installer', 'lga',\n",
        "           'public_meeting', 'scheme_management', 'permit', 'years_from_installation', 'year']"
      ],
      "execution_count": 0,
      "outputs": []
    },
    {
      "metadata": {
        "id": "466FPQ41h242",
        "colab_type": "code",
        "outputId": "ed8f6f05-12de-4f7f-964d-4c4651b6e584",
        "colab": {
          "base_uri": "https://localhost:8080/",
          "height": 476
        }
      },
      "cell_type": "code",
      "source": [
        "#average coefficient by category\n",
        "coefs = []\n",
        "name = []\n",
        "for colname in reorder:\n",
        "  coef = coefficientsdf[coefficientsdf['index'].str.contains(colname, regex=False)] #literal strings\n",
        "  m = coef['values'].mean()\n",
        "  coefs.append(m)\n",
        "  name.append(colname)\n",
        "pd.Series(coefs, name).sort_values(ascending=False)"
      ],
      "execution_count": 0,
      "outputs": [
        {
          "output_type": "execute_result",
          "data": {
            "text/plain": [
              "amount_tsh                 0.104037\n",
              "construction_year          0.080682\n",
              "permit                     0.078130\n",
              "public_meeting             0.058911\n",
              "gps_height                 0.056588\n",
              "population                 0.038419\n",
              "district_code              0.033211\n",
              "waterpoint_type_group      0.016052\n",
              "source_class               0.006720\n",
              "payment_type               0.006284\n",
              "water_quality              0.004444\n",
              "management_group           0.004106\n",
              "quality_group              0.003413\n",
              "source                     0.003218\n",
              "management                 0.000625\n",
              "installer                 -0.000234\n",
              "lga                       -0.001605\n",
              "scheme_management         -0.002286\n",
              "basin                     -0.002838\n",
              "funder                    -0.002855\n",
              "extraction_type_class     -0.008731\n",
              "num_private               -0.012486\n",
              "quantity                  -0.017955\n",
              "year                      -0.022829\n",
              "region_code               -0.074662\n",
              "years_from_installation   -0.085642\n",
              "dtype: float64"
            ]
          },
          "metadata": {
            "tags": []
          },
          "execution_count": 80
        }
      ]
    },
    {
      "metadata": {
        "id": "ZaHWWKJ1tH_X",
        "colab_type": "code",
        "colab": {}
      },
      "cell_type": "code",
      "source": [
        "#five best positive coors - amount_tsh, construction_year, permit, public_meeting, gps_height\n",
        "#five best negative coors - years_from_installation, region_code, year, quantity, num_private\n",
        "#that sounds wrong and like its selecting for non-categoricals"
      ],
      "execution_count": 0,
      "outputs": []
    },
    {
      "metadata": {
        "id": "ljTF6x0cuiFV",
        "colab_type": "code",
        "colab": {}
      },
      "cell_type": "code",
      "source": [
        "ThirdX = train[['amount_tsh', 'permit', 'public_meeting', 'gps_height',\n",
        "                'years_from_installation', 'region_code', 'quantity', 'num_private']]\n",
        "Thirdtest = test[['amount_tsh', 'permit', 'public_meeting', 'gps_height',\n",
        "                'years_from_installation', 'region_code', 'quantity', 'num_private']]"
      ],
      "execution_count": 0,
      "outputs": []
    },
    {
      "metadata": {
        "id": "GVk6fCkkwjPq",
        "colab_type": "code",
        "outputId": "24c41d2f-23f2-4401-a759-44c0a7ae66a1",
        "colab": {
          "base_uri": "https://localhost:8080/",
          "height": 34
        }
      },
      "cell_type": "code",
      "source": [
        "Xtrain, Xval, ytrain, yval = train_test_split(ThirdX, Baseliney)\n",
        "Xtrain.shape, Xval.shape, ytrain.shape, yval.shape"
      ],
      "execution_count": 0,
      "outputs": [
        {
          "output_type": "execute_result",
          "data": {
            "text/plain": [
              "((44550, 8), (14850, 8), (44550,), (14850,))"
            ]
          },
          "metadata": {
            "tags": []
          },
          "execution_count": 83
        }
      ]
    },
    {
      "metadata": {
        "id": "5C3WBSEYw2_r",
        "colab_type": "code",
        "outputId": "90d0c3b2-fa37-426f-976b-33742cc9b73d",
        "colab": {
          "base_uri": "https://localhost:8080/",
          "height": 34
        }
      },
      "cell_type": "code",
      "source": [
        "pipeline = make_pipeline(\n",
        "    OneHotEncoder(use_cat_names=True),\n",
        "    StandardScaler(), \n",
        "    LogisticRegression(solver='lbfgs', max_iter=5000, multi_class='auto')\n",
        ")\n",
        "\n",
        "pipeline.fit(Xtrain, ytrain)\n",
        "\n",
        "ypred = pipeline.predict(Xval)\n",
        "accuracy_score(yval,ypred) #I thought so"
      ],
      "execution_count": 0,
      "outputs": [
        {
          "output_type": "execute_result",
          "data": {
            "text/plain": [
              "0.6717845117845118"
            ]
          },
          "metadata": {
            "tags": []
          },
          "execution_count": 85
        }
      ]
    },
    {
      "metadata": {
        "id": "v4pVn10W5aci",
        "colab_type": "text"
      },
      "cell_type": "markdown",
      "source": [
        "# **Second Model - Decision Tree - 70.18%**"
      ]
    },
    {
      "metadata": {
        "id": "AYrjt8fR5wr7",
        "colab_type": "code",
        "outputId": "7cb1bdf2-9526-42e4-a824-602248107b58",
        "colab": {
          "base_uri": "https://localhost:8080/",
          "height": 34
        }
      },
      "cell_type": "code",
      "source": [
        "pipeline = make_pipeline(\n",
        "    OneHotEncoder(use_cat_names=True), \n",
        "    SimpleImputer(), \n",
        "    DecisionTreeClassifier(max_depth=3))\n",
        "\n",
        "pipeline.fit(Xtrain, ytrain)\n",
        "ypred = pipeline.predict(Xval)\n",
        "accuracy_score(yval,ypred)"
      ],
      "execution_count": 0,
      "outputs": [
        {
          "output_type": "execute_result",
          "data": {
            "text/plain": [
              "0.7017508417508418"
            ]
          },
          "metadata": {
            "tags": []
          },
          "execution_count": 207
        }
      ]
    },
    {
      "metadata": {
        "id": "-NHCe3ln7cvW",
        "colab_type": "code",
        "outputId": "13f503cd-bac3-4e99-f288-130e50c4f0ea",
        "colab": {
          "base_uri": "https://localhost:8080/",
          "height": 51
        }
      },
      "cell_type": "code",
      "source": [
        "ytrain"
      ],
      "execution_count": 0,
      "outputs": [
        {
          "output_type": "execute_result",
          "data": {
            "text/plain": [
              "array(['non functional', 'functional', 'functional', ...,\n",
              "       'non functional', 'functional', 'non functional'], dtype=object)"
            ]
          },
          "metadata": {
            "tags": []
          },
          "execution_count": 211
        }
      ]
    },
    {
      "metadata": {
        "id": "wevHyPBk6IEL",
        "colab_type": "code",
        "outputId": "195bc0b7-e778-4703-be25-27710ca97b1a",
        "colab": {
          "base_uri": "https://localhost:8080/",
          "height": 1071
        }
      },
      "cell_type": "code",
      "source": [
        "model = pipeline.named_steps['decisiontreeclassifier']\n",
        "feature_names = pipeline.named_steps['onehotencoder'].transform(Xtrain).columns\n",
        "class_names = ['functional', 'functional needs repair', 'non functional']\n",
        "\n",
        "pd.Series(model.feature_importances_, feature_names).sort_values(ascending=False)"
      ],
      "execution_count": 0,
      "outputs": [
        {
          "output_type": "execute_result",
          "data": {
            "text/plain": [
              "quantity_dry                             0.598164\n",
              "waterpoint_type_group_other              0.305905\n",
              "amount_tsh                               0.074503\n",
              "source_spring                            0.016124\n",
              "lga_Shinyanga Rural                      0.003217\n",
              "funder_World Bank                        0.001384\n",
              "scheme_management_WUG                    0.000703\n",
              "years_from_installation                  0.000000\n",
              "quality_group_unknown                    0.000000\n",
              "quantity_seasonal                        0.000000\n",
              "quantity_insufficient                    0.000000\n",
              "quality_group_-1                         0.000000\n",
              "quality_group_fluoride                   0.000000\n",
              "quality_group_colored                    0.000000\n",
              "quality_group_milky                      0.000000\n",
              "quality_group_salty                      0.000000\n",
              "quality_group_good                       0.000000\n",
              "water_quality_-1                         0.000000\n",
              "water_quality_fluoride abandoned         0.000000\n",
              "water_quality_fluoride                   0.000000\n",
              "water_quality_coloured                   0.000000\n",
              "water_quality_milky                      0.000000\n",
              "water_quality_salty abandoned            0.000000\n",
              "water_quality_unknown                    0.000000\n",
              "water_quality_soft                       0.000000\n",
              "quantity_enough                          0.000000\n",
              "source_shallow well                      0.000000\n",
              "quantity_unknown                         0.000000\n",
              "quantity_-1                              0.000000\n",
              "waterpoint_type_group_improved spring    0.000000\n",
              "                                           ...   \n",
              "funder_World Vision                      0.000000\n",
              "funder_Unicef                            0.000000\n",
              "funder_Kkkt                              0.000000\n",
              "funder_Rwssp                             0.000000\n",
              "funder_Government Of Tanzania            0.000000\n",
              "funder_Danida                            0.000000\n",
              "year                                     0.000000\n",
              "lga_Songea Rural                         0.000000\n",
              "lga_Njombe                               0.000000\n",
              "lga_Sumbawanga Rural                     0.000000\n",
              "lga_Kilombero                            0.000000\n",
              "lga_Namtumbo                             0.000000\n",
              "lga_Kahama                               0.000000\n",
              "lga_Mbinga                               0.000000\n",
              "lga_Karagwe                              0.000000\n",
              "lga_Bagamoyo                             0.000000\n",
              "lga_Kibondo                              0.000000\n",
              "lga_Ngara                                0.000000\n",
              "lga_Kasulu                               0.000000\n",
              "lga_Kilosa                               0.000000\n",
              "lga_Iramba                               0.000000\n",
              "lga_Mbozi                                0.000000\n",
              "lga_Moshi Rural                          0.000000\n",
              "lga_Meru                                 0.000000\n",
              "lga_Arusha Rural                         0.000000\n",
              "lga_Kyela                                0.000000\n",
              "lga_Kigoma Rural                         0.000000\n",
              "lga_Same                                 0.000000\n",
              "lga_Mvomero                              0.000000\n",
              "basin_Pangani                            0.000000\n",
              "Length: 181, dtype: float64"
            ]
          },
          "metadata": {
            "tags": []
          },
          "execution_count": 214
        }
      ]
    },
    {
      "metadata": {
        "id": "ZByzxTkw7JtH",
        "colab_type": "code",
        "colab": {}
      },
      "cell_type": "code",
      "source": [
        ""
      ],
      "execution_count": 0,
      "outputs": []
    }
  ]
}